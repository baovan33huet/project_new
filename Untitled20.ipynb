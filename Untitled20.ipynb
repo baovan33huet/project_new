{
  "nbformat": 4,
  "nbformat_minor": 0,
  "metadata": {
    "colab": {
      "name": "Untitled20.ipynb",
      "provenance": []
    },
    "kernelspec": {
      "name": "python3",
      "display_name": "Python 3"
    },
    "language_info": {
      "name": "python"
    }
  },
  "cells": [
    {
      "cell_type": "code",
      "execution_count": 1,
      "metadata": {
        "id": "S992da4Sc1cz"
      },
      "outputs": [],
      "source": [
        "import pandas as pd\n",
        "import string\n",
        "import random"
      ]
    },
    {
      "cell_type": "markdown",
      "source": [
        "Câu 1: Tạo các Series với kích thước 1x10 thỏa mãn yêu cầu:\n",
        "\n",
        "Series 1: có tên là “Họ và tên” và dữ liệu (định tính) do bạn tự nhập vào\n",
        "Series 2: có tên là “Ngày sinh” & dữ liệu do bạn tự nhập vào\n",
        "Series 3: có tên là “Tiền công/h” có dữ liệu định lượng do bạn tự nhập\n",
        "Series 4: có tên là “Số h công” có dữ liệu định lượng do bạn tự nhập\n",
        "Series 5: có tên là “Thực lĩnh” có kích thước 1x10 và để trống Hãy:\n",
        "Tạo 1 dataframe bằng cách ghép các series trên lại với nhau\n",
        "Hãy tính giá trị cho cột (column) “Thực lĩnh” theo công thức: Thực lĩnh = “Số h công” x “Tiền công/h”\n",
        "\n",
        "Hãy in toàn bộ dataframe ở trên ra màn hình"
      ],
      "metadata": {
        "id": "u4Y9veAhdPnP"
      }
    },
    {
      "cell_type": "code",
      "source": [
        "ho = [\"Van\", \"Le\"]\n",
        "dem = [\"TU\", \"Me\"]\n",
        "ten = string.ascii_uppercase\n",
        "\n",
        "def inputDatas(datas):\n",
        "  for i in range(10):\n",
        "    data = input(\"input data: \")\n",
        "    datas.append(data)\n",
        "  return datas\n",
        "\n",
        "num = [i for i in range(10)]\n",
        "hvt = [random.choice(ho)+\" \"+random.choice(dem)+\" \"+random.choice(ten) for i in range(10)]\n",
        "ns = []\n",
        "tch = [random.randint(10000, 20000) for i in range(10)]\n",
        "h = [random.randint(1, 10) for i in range(10)]\n",
        "\n",
        "print(\"Ngày sinh\")\n",
        "inputDatas(ns)"
      ],
      "metadata": {
        "id": "EAfko5KKdQKk"
      },
      "execution_count": null,
      "outputs": []
    },
    {
      "cell_type": "code",
      "source": [
        "Name = pd.Series(data=hvt, index=num)\n",
        "Date = pd.Series(data=ns, index=num)\n",
        "Pay = pd.Series(data=tch, index=num)\n",
        "Time = pd.Series(data=h, index=num)\n",
        "sr = pd.Series(data=None, index=num)\n",
        "\n",
        "datas = {\n",
        "    \"Ho\": Name,\n",
        "    \"\bNgay sinh\": Date,\n",
        "    \"Tien\": Pay,\n",
        "    \"Gio\": Time,\n",
        "    \"Thuc linh\": [Pay[i]*Time[i] for i in range(10)]\n",
        "}\n",
        "\n",
        "df = pd.DataFrame(datas)\n",
        "df"
      ],
      "metadata": {
        "id": "clgp7uYXdgZM"
      },
      "execution_count": null,
      "outputs": []
    }
  ]
}