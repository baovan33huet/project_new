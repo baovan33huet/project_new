{
  "nbformat": 4,
  "nbformat_minor": 0,
  "metadata": {
    "colab": {
      "name": "Untitled8.ipynb",
      "provenance": [],
      "toc_visible": true
    },
    "kernelspec": {
      "name": "python3",
      "display_name": "Python 3"
    },
    "language_info": {
      "name": "python"
    }
  },
  "cells": [
    {
      "cell_type": "code",
      "source": [
        "import numpy as np"
      ],
      "metadata": {
        "id": "u0GRXptzsqln"
      },
      "execution_count": 2,
      "outputs": []
    },
    {
      "cell_type": "code",
      "execution_count": 4,
      "metadata": {
        "colab": {
          "base_uri": "https://localhost:8080/"
        },
        "id": "LGWw9quZsaJc",
        "outputId": "dfa52786-f54d-418b-fd86-346527cec0ad"
      },
      "outputs": [
        {
          "output_type": "execute_result",
          "data": {
            "text/plain": [
              "array([[0.83293313, 0.89521792, 0.16001628, 0.95634077, 0.85979525],\n",
              "       [0.08941423, 0.64053202, 0.45101527, 0.90206999, 0.43645569],\n",
              "       [0.75417907, 0.25616274, 0.30493971, 0.7400306 , 0.30388503],\n",
              "       [0.86320864, 0.79792095, 0.78283033, 0.42001974, 0.17419294],\n",
              "       [0.01122009, 0.28718383, 0.78194124, 0.64319005, 0.91327326],\n",
              "       [0.44416829, 0.36402883, 0.99862049, 0.71839667, 0.83251165],\n",
              "       [0.78860916, 0.18339364, 0.74180495, 0.30868785, 0.11032001]])"
            ]
          },
          "metadata": {},
          "execution_count": 4
        }
      ],
      "source": [
        "#cau 1\n",
        "np.random.rand(7,5)"
      ]
    },
    {
      "cell_type": "code",
      "source": [
        "#cau 2\n",
        "s = (6,7)\n",
        "np.zeros(s)"
      ],
      "metadata": {
        "colab": {
          "base_uri": "https://localhost:8080/"
        },
        "id": "dzFgEwFKsnK0",
        "outputId": "ee50a09d-03ab-46ee-b0fe-1e99de0e3673"
      },
      "execution_count": 9,
      "outputs": [
        {
          "output_type": "execute_result",
          "data": {
            "text/plain": [
              "array([[0., 0., 0., 0., 0., 0., 0.],\n",
              "       [0., 0., 0., 0., 0., 0., 0.],\n",
              "       [0., 0., 0., 0., 0., 0., 0.],\n",
              "       [0., 0., 0., 0., 0., 0., 0.],\n",
              "       [0., 0., 0., 0., 0., 0., 0.],\n",
              "       [0., 0., 0., 0., 0., 0., 0.]])"
            ]
          },
          "metadata": {},
          "execution_count": 9
        }
      ]
    },
    {
      "cell_type": "code",
      "source": [
        "#cau 3\n",
        "np.random.rand(7,7)"
      ],
      "metadata": {
        "colab": {
          "base_uri": "https://localhost:8080/"
        },
        "id": "_S_Mw49cuGw2",
        "outputId": "11772754-ed34-49cb-a876-04c781fdbc13"
      },
      "execution_count": 10,
      "outputs": [
        {
          "output_type": "execute_result",
          "data": {
            "text/plain": [
              "array([[0.50128919, 0.87649773, 0.21281865, 0.81635218, 0.83188254,\n",
              "        0.70382148, 0.3547941 ],\n",
              "       [0.08715067, 0.84401855, 0.33748223, 0.74629735, 0.09858324,\n",
              "        0.59472376, 0.44533236],\n",
              "       [0.75907354, 0.80987539, 0.46021838, 0.48819021, 0.98519688,\n",
              "        0.52776153, 0.86670239],\n",
              "       [0.1664043 , 0.62377021, 0.18598951, 0.99144401, 0.31493741,\n",
              "        0.17037274, 0.83268465],\n",
              "       [0.63647356, 0.83667855, 0.38043192, 0.65483069, 0.07115648,\n",
              "        0.12856324, 0.11362209],\n",
              "       [0.0751144 , 0.92719482, 0.63567203, 0.43018459, 0.1209667 ,\n",
              "        0.06841657, 0.67412755],\n",
              "       [0.90885099, 0.45936717, 0.80603906, 0.81004348, 0.41213439,\n",
              "        0.91617876, 0.20204631]])"
            ]
          },
          "metadata": {},
          "execution_count": 10
        }
      ]
    },
    {
      "cell_type": "code",
      "source": [
        ""
      ],
      "metadata": {
        "id": "lP2BkQT2ublD"
      },
      "execution_count": null,
      "outputs": []
    }
  ]
}