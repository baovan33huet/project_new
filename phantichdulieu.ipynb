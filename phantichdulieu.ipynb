{
  "nbformat": 4,
  "nbformat_minor": 0,
  "metadata": {
    "colab": {
      "name": "phantichdulieu.ipynb",
      "provenance": []
    },
    "kernelspec": {
      "name": "python3",
      "display_name": "Python 3"
    },
    "language_info": {
      "name": "python"
    }
  },
  "cells": [
    {
      "cell_type": "code",
      "execution_count": 1,
      "metadata": {
        "id": "rK13N1eIBAV8"
      },
      "outputs": [],
      "source": [
        "import numpy as np\n",
        "import pandas as pd\n",
        "import matplotlib.pyplot as plt"
      ]
    },
    {
      "cell_type": "markdown",
      "source": [
        " Đọc tệp"
      ],
      "metadata": {
        "id": "ipjv5aKQB6qH"
      }
    },
    {
      "cell_type": "code",
      "source": [
        "df = pd.read_csv(\"DuLieuYKhoa.csv\", sep=\";\")\n",
        "df.head"
      ],
      "metadata": {
        "colab": {
          "base_uri": "https://localhost:8080/"
        },
        "id": "eXstZMEmBY-S",
        "outputId": "72a111d9-0e71-42a1-eb5e-bf71e9f92317"
      },
      "execution_count": 2,
      "outputs": [
        {
          "output_type": "execute_result",
          "data": {
            "text/plain": [
              "<bound method NDFrame.head of     TUOI  BMI   HA  GLUCOSE  CHOLESTEROL  BEDAYTM\n",
              "0     56   21  160     14.0         6.00     1.95\n",
              "1     76   18  150     12.0         4.97     1.33\n",
              "2     63   16  160      4.4         6.39     0.83\n",
              "3     78   20  100      4.0         7.00     2.00\n",
              "4     87   20  110      4.6         4.10     1.30\n",
              "..   ...  ...  ...      ...          ...      ...\n",
              "95    55   24  160      5.0         7.20     0.90\n",
              "96    76   15  140      3.1         5.24     1.16\n",
              "97    70   25  180      4.0         4.40     1.00\n",
              "98    85   21  160      5.2         5.20     0.97\n",
              "99    87   22  130      9.0         5.20     2.30\n",
              "\n",
              "[100 rows x 6 columns]>"
            ]
          },
          "metadata": {},
          "execution_count": 2
        }
      ]
    },
    {
      "cell_type": "markdown",
      "source": [
        "Bảng tính toán các chỉ số thống kê trung bình, phương sai, độ lệch chuẩn và tứ phân vị..."
      ],
      "metadata": {
        "id": "DBun4OuLGF02"
      }
    },
    {
      "cell_type": "code",
      "source": [
        "df.describe()"
      ],
      "metadata": {
        "colab": {
          "base_uri": "https://localhost:8080/",
          "height": 300
        },
        "id": "PusFOIlxFs6D",
        "outputId": "5b2b86d3-bdcd-4c01-cf02-0236271d57aa"
      },
      "execution_count": 3,
      "outputs": [
        {
          "output_type": "execute_result",
          "data": {
            "text/plain": [
              "             TUOI         BMI          HA     GLUCOSE  CHOLESTEROL     BEDAYTM\n",
              "count  100.000000  100.000000  100.000000  100.000000   100.000000  100.000000\n",
              "mean    62.690000   22.360000  141.000000    6.843000     5.186200    1.071000\n",
              "std     15.519746    3.394946   20.275875    4.274927     1.413356    0.403821\n",
              "min     21.000000   15.000000   90.000000    2.700000     2.000000    0.560000\n",
              "25%     54.000000   20.000000  130.000000    4.600000     4.187500    0.810000\n",
              "50%     63.500000   22.000000  140.000000    5.550000     5.195000    0.970000\n",
              "75%     74.000000   24.000000  160.000000    6.825000     6.322500    1.135000\n",
              "max     95.000000   34.000000  190.000000   26.000000     8.180000    2.700000"
            ],
            "text/html": [
              "\n",
              "  <div id=\"df-6550e641-15b4-4279-a10e-da9cef882ae9\">\n",
              "    <div class=\"colab-df-container\">\n",
              "      <div>\n",
              "<style scoped>\n",
              "    .dataframe tbody tr th:only-of-type {\n",
              "        vertical-align: middle;\n",
              "    }\n",
              "\n",
              "    .dataframe tbody tr th {\n",
              "        vertical-align: top;\n",
              "    }\n",
              "\n",
              "    .dataframe thead th {\n",
              "        text-align: right;\n",
              "    }\n",
              "</style>\n",
              "<table border=\"1\" class=\"dataframe\">\n",
              "  <thead>\n",
              "    <tr style=\"text-align: right;\">\n",
              "      <th></th>\n",
              "      <th>TUOI</th>\n",
              "      <th>BMI</th>\n",
              "      <th>HA</th>\n",
              "      <th>GLUCOSE</th>\n",
              "      <th>CHOLESTEROL</th>\n",
              "      <th>BEDAYTM</th>\n",
              "    </tr>\n",
              "  </thead>\n",
              "  <tbody>\n",
              "    <tr>\n",
              "      <th>count</th>\n",
              "      <td>100.000000</td>\n",
              "      <td>100.000000</td>\n",
              "      <td>100.000000</td>\n",
              "      <td>100.000000</td>\n",
              "      <td>100.000000</td>\n",
              "      <td>100.000000</td>\n",
              "    </tr>\n",
              "    <tr>\n",
              "      <th>mean</th>\n",
              "      <td>62.690000</td>\n",
              "      <td>22.360000</td>\n",
              "      <td>141.000000</td>\n",
              "      <td>6.843000</td>\n",
              "      <td>5.186200</td>\n",
              "      <td>1.071000</td>\n",
              "    </tr>\n",
              "    <tr>\n",
              "      <th>std</th>\n",
              "      <td>15.519746</td>\n",
              "      <td>3.394946</td>\n",
              "      <td>20.275875</td>\n",
              "      <td>4.274927</td>\n",
              "      <td>1.413356</td>\n",
              "      <td>0.403821</td>\n",
              "    </tr>\n",
              "    <tr>\n",
              "      <th>min</th>\n",
              "      <td>21.000000</td>\n",
              "      <td>15.000000</td>\n",
              "      <td>90.000000</td>\n",
              "      <td>2.700000</td>\n",
              "      <td>2.000000</td>\n",
              "      <td>0.560000</td>\n",
              "    </tr>\n",
              "    <tr>\n",
              "      <th>25%</th>\n",
              "      <td>54.000000</td>\n",
              "      <td>20.000000</td>\n",
              "      <td>130.000000</td>\n",
              "      <td>4.600000</td>\n",
              "      <td>4.187500</td>\n",
              "      <td>0.810000</td>\n",
              "    </tr>\n",
              "    <tr>\n",
              "      <th>50%</th>\n",
              "      <td>63.500000</td>\n",
              "      <td>22.000000</td>\n",
              "      <td>140.000000</td>\n",
              "      <td>5.550000</td>\n",
              "      <td>5.195000</td>\n",
              "      <td>0.970000</td>\n",
              "    </tr>\n",
              "    <tr>\n",
              "      <th>75%</th>\n",
              "      <td>74.000000</td>\n",
              "      <td>24.000000</td>\n",
              "      <td>160.000000</td>\n",
              "      <td>6.825000</td>\n",
              "      <td>6.322500</td>\n",
              "      <td>1.135000</td>\n",
              "    </tr>\n",
              "    <tr>\n",
              "      <th>max</th>\n",
              "      <td>95.000000</td>\n",
              "      <td>34.000000</td>\n",
              "      <td>190.000000</td>\n",
              "      <td>26.000000</td>\n",
              "      <td>8.180000</td>\n",
              "      <td>2.700000</td>\n",
              "    </tr>\n",
              "  </tbody>\n",
              "</table>\n",
              "</div>\n",
              "      <button class=\"colab-df-convert\" onclick=\"convertToInteractive('df-6550e641-15b4-4279-a10e-da9cef882ae9')\"\n",
              "              title=\"Convert this dataframe to an interactive table.\"\n",
              "              style=\"display:none;\">\n",
              "        \n",
              "  <svg xmlns=\"http://www.w3.org/2000/svg\" height=\"24px\"viewBox=\"0 0 24 24\"\n",
              "       width=\"24px\">\n",
              "    <path d=\"M0 0h24v24H0V0z\" fill=\"none\"/>\n",
              "    <path d=\"M18.56 5.44l.94 2.06.94-2.06 2.06-.94-2.06-.94-.94-2.06-.94 2.06-2.06.94zm-11 1L8.5 8.5l.94-2.06 2.06-.94-2.06-.94L8.5 2.5l-.94 2.06-2.06.94zm10 10l.94 2.06.94-2.06 2.06-.94-2.06-.94-.94-2.06-.94 2.06-2.06.94z\"/><path d=\"M17.41 7.96l-1.37-1.37c-.4-.4-.92-.59-1.43-.59-.52 0-1.04.2-1.43.59L10.3 9.45l-7.72 7.72c-.78.78-.78 2.05 0 2.83L4 21.41c.39.39.9.59 1.41.59.51 0 1.02-.2 1.41-.59l7.78-7.78 2.81-2.81c.8-.78.8-2.07 0-2.86zM5.41 20L4 18.59l7.72-7.72 1.47 1.35L5.41 20z\"/>\n",
              "  </svg>\n",
              "      </button>\n",
              "      \n",
              "  <style>\n",
              "    .colab-df-container {\n",
              "      display:flex;\n",
              "      flex-wrap:wrap;\n",
              "      gap: 12px;\n",
              "    }\n",
              "\n",
              "    .colab-df-convert {\n",
              "      background-color: #E8F0FE;\n",
              "      border: none;\n",
              "      border-radius: 50%;\n",
              "      cursor: pointer;\n",
              "      display: none;\n",
              "      fill: #1967D2;\n",
              "      height: 32px;\n",
              "      padding: 0 0 0 0;\n",
              "      width: 32px;\n",
              "    }\n",
              "\n",
              "    .colab-df-convert:hover {\n",
              "      background-color: #E2EBFA;\n",
              "      box-shadow: 0px 1px 2px rgba(60, 64, 67, 0.3), 0px 1px 3px 1px rgba(60, 64, 67, 0.15);\n",
              "      fill: #174EA6;\n",
              "    }\n",
              "\n",
              "    [theme=dark] .colab-df-convert {\n",
              "      background-color: #3B4455;\n",
              "      fill: #D2E3FC;\n",
              "    }\n",
              "\n",
              "    [theme=dark] .colab-df-convert:hover {\n",
              "      background-color: #434B5C;\n",
              "      box-shadow: 0px 1px 3px 1px rgba(0, 0, 0, 0.15);\n",
              "      filter: drop-shadow(0px 1px 2px rgba(0, 0, 0, 0.3));\n",
              "      fill: #FFFFFF;\n",
              "    }\n",
              "  </style>\n",
              "\n",
              "      <script>\n",
              "        const buttonEl =\n",
              "          document.querySelector('#df-6550e641-15b4-4279-a10e-da9cef882ae9 button.colab-df-convert');\n",
              "        buttonEl.style.display =\n",
              "          google.colab.kernel.accessAllowed ? 'block' : 'none';\n",
              "\n",
              "        async function convertToInteractive(key) {\n",
              "          const element = document.querySelector('#df-6550e641-15b4-4279-a10e-da9cef882ae9');\n",
              "          const dataTable =\n",
              "            await google.colab.kernel.invokeFunction('convertToInteractive',\n",
              "                                                     [key], {});\n",
              "          if (!dataTable) return;\n",
              "\n",
              "          const docLinkHtml = 'Like what you see? Visit the ' +\n",
              "            '<a target=\"_blank\" href=https://colab.research.google.com/notebooks/data_table.ipynb>data table notebook</a>'\n",
              "            + ' to learn more about interactive tables.';\n",
              "          element.innerHTML = '';\n",
              "          dataTable['output_type'] = 'display_data';\n",
              "          await google.colab.output.renderOutput(dataTable, element);\n",
              "          const docLink = document.createElement('div');\n",
              "          docLink.innerHTML = docLinkHtml;\n",
              "          element.appendChild(docLink);\n",
              "        }\n",
              "      </script>\n",
              "    </div>\n",
              "  </div>\n",
              "  "
            ]
          },
          "metadata": {},
          "execution_count": 3
        }
      ]
    },
    {
      "cell_type": "markdown",
      "source": [
        "Sử dụng malplot để trực quan hoá dữ liệu"
      ],
      "metadata": {
        "id": "FYsTO0yHGXo1"
      }
    },
    {
      "cell_type": "code",
      "source": [
        "df.hist(figsize=(15,15))"
      ],
      "metadata": {
        "colab": {
          "base_uri": "https://localhost:8080/",
          "height": 981
        },
        "id": "MwpFSRQ6Ov6w",
        "outputId": "1ed9315f-655b-4fef-928b-eaeaf9e57d9f"
      },
      "execution_count": 4,
      "outputs": [
        {
          "output_type": "execute_result",
          "data": {
            "text/plain": [
              "array([[<matplotlib.axes._subplots.AxesSubplot object at 0x7f6c4afd7e10>,\n",
              "        <matplotlib.axes._subplots.AxesSubplot object at 0x7f6c4af412d0>],\n",
              "       [<matplotlib.axes._subplots.AxesSubplot object at 0x7f6c4aef78d0>,\n",
              "        <matplotlib.axes._subplots.AxesSubplot object at 0x7f6c4aeaeed0>],\n",
              "       [<matplotlib.axes._subplots.AxesSubplot object at 0x7f6c4ae71510>,\n",
              "        <matplotlib.axes._subplots.AxesSubplot object at 0x7f6c4ae27b10>]],\n",
              "      dtype=object)"
            ]
          },
          "metadata": {},
          "execution_count": 4
        },
        {
          "output_type": "display_data",
          "data": {
            "text/plain": [
              "<Figure size 1080x1080 with 6 Axes>"
            ],
            "image/png": "[encoded data removed]"
          },
          "metadata": {
            "needs_background": "light"
          }
        }
      ]
    },
    {
      "cell_type": "code",
      "source": [
        "import seaborn as sns\n"
      ],
      "metadata": {
        "id": "fR1tO7IMG3MQ"
      },
      "execution_count": 5,
      "outputs": []
    },
    {
      "cell_type": "code",
      "source": [
        "ax = sns.boxplot(data=df, orient=\"h\", palette=\"Set2\")"
      ],
      "metadata": {
        "colab": {
          "base_uri": "https://localhost:8080/",
          "height": 265
        },
        "id": "wo2XLS9-HE1a",
        "outputId": "7f4b2c97-6a40-4f38-81e4-43e696962a90"
      },
      "execution_count": 6,
      "outputs": [
        {
          "output_type": "display_data",
          "data": {
            "text/plain": [
              "<Figure size 432x288 with 1 Axes>"
            ],
            "image/png": "[encoded data removed]"
          },
          "metadata": {
            "needs_background": "light"
          }
        }
      ]
    },
    {
      "cell_type": "markdown",
      "source": [
        ""
      ],
      "metadata": {
        "id": "-uc5lmZUG1g2"
      }
    },
    {
      "cell_type": "markdown",
      "source": [
        "Ta thấy được cột GLUCOSE có nhiều giá trị ngoại lai nên ta cần loại bỏ các giá trị đó"
      ],
      "metadata": {
        "id": "accKLGRZPhdA"
      }
    },
    {
      "cell_type": "code",
      "source": [
        "max_thresold = df['GLUCOSE'].quantile(0.7) \n",
        "df[df['GLUCOSE'] > max_thresold]\n",
        "df3 = df[(df['GLUCOSE'] < max_thresold)]"
      ],
      "metadata": {
        "id": "eVfOQeMFIYTI"
      },
      "execution_count": 36,
      "outputs": []
    },
    {
      "cell_type": "code",
      "source": [
        "df3"
      ],
      "metadata": {
        "colab": {
          "base_uri": "https://localhost:8080/",
          "height": 424
        },
        "id": "bYo-I7s4iBFJ",
        "outputId": "1fa3ac07-d1b2-4583-b383-d4253b1c4cd5"
      },
      "execution_count": 22,
      "outputs": [
        {
          "output_type": "execute_result",
          "data": {
            "text/plain": [
              "    TUOI  BMI   HA  GLUCOSE  CHOLESTEROL  BEDAYTM\n",
              "2     63   16  160      4.4         6.39     0.83\n",
              "3     78   20  100      4.0         7.00     2.00\n",
              "4     87   20  110      4.6         4.10     1.30\n",
              "5     76   19  150      4.6         2.74     1.16\n",
              "6     55   31  160      5.5         4.60     1.00\n",
              "..   ...  ...  ...      ...          ...      ...\n",
              "95    55   24  160      5.0         7.20     0.90\n",
              "96    76   15  140      3.1         5.24     1.16\n",
              "97    70   25  180      4.0         4.40     1.00\n",
              "98    85   21  160      5.2         5.20     0.97\n",
              "99    87   22  130      9.0         5.20     2.30\n",
              "\n",
              "[90 rows x 6 columns]"
            ],
            "text/html": [
              "\n",
              "  <div id=\"df-c8c1ad2b-24d2-4a79-a58f-e1a5dfbe5180\">\n",
              "    <div class=\"colab-df-container\">\n",
              "      <div>\n",
              "<style scoped>\n",
              "    .dataframe tbody tr th:only-of-type {\n",
              "        vertical-align: middle;\n",
              "    }\n",
              "\n",
              "    .dataframe tbody tr th {\n",
              "        vertical-align: top;\n",
              "    }\n",
              "\n",
              "    .dataframe thead th {\n",
              "        text-align: right;\n",
              "    }\n",
              "</style>\n",
              "<table border=\"1\" class=\"dataframe\">\n",
              "  <thead>\n",
              "    <tr style=\"text-align: right;\">\n",
              "      <th></th>\n",
              "      <th>TUOI</th>\n",
              "      <th>BMI</th>\n",
              "      <th>HA</th>\n",
              "      <th>GLUCOSE</th>\n",
              "      <th>CHOLESTEROL</th>\n",
              "      <th>BEDAYTM</th>\n",
              "    </tr>\n",
              "  </thead>\n",
              "  <tbody>\n",
              "    <tr>\n",
              "      <th>2</th>\n",
              "      <td>63</td>\n",
              "      <td>16</td>\n",
              "      <td>160</td>\n",
              "      <td>4.4</td>\n",
              "      <td>6.39</td>\n",
              "      <td>0.83</td>\n",
              "    </tr>\n",
              "    <tr>\n",
              "      <th>3</th>\n",
              "      <td>78</td>\n",
              "      <td>20</td>\n",
              "      <td>100</td>\n",
              "      <td>4.0</td>\n",
              "      <td>7.00</td>\n",
              "      <td>2.00</td>\n",
              "    </tr>\n",
              "    <tr>\n",
              "      <th>4</th>\n",
              "      <td>87</td>\n",
              "      <td>20</td>\n",
              "      <td>110</td>\n",
              "      <td>4.6</td>\n",
              "      <td>4.10</td>\n",
              "      <td>1.30</td>\n",
              "    </tr>\n",
              "    <tr>\n",
              "      <th>5</th>\n",
              "      <td>76</td>\n",
              "      <td>19</td>\n",
              "      <td>150</td>\n",
              "      <td>4.6</td>\n",
              "      <td>2.74</td>\n",
              "      <td>1.16</td>\n",
              "    </tr>\n",
              "    <tr>\n",
              "      <th>6</th>\n",
              "      <td>55</td>\n",
              "      <td>31</td>\n",
              "      <td>160</td>\n",
              "      <td>5.5</td>\n",
              "      <td>4.60</td>\n",
              "      <td>1.00</td>\n",
              "    </tr>\n",
              "    <tr>\n",
              "      <th>...</th>\n",
              "      <td>...</td>\n",
              "      <td>...</td>\n",
              "      <td>...</td>\n",
              "      <td>...</td>\n",
              "      <td>...</td>\n",
              "      <td>...</td>\n",
              "    </tr>\n",
              "    <tr>\n",
              "      <th>95</th>\n",
              "      <td>55</td>\n",
              "      <td>24</td>\n",
              "      <td>160</td>\n",
              "      <td>5.0</td>\n",
              "      <td>7.20</td>\n",
              "      <td>0.90</td>\n",
              "    </tr>\n",
              "    <tr>\n",
              "      <th>96</th>\n",
              "      <td>76</td>\n",
              "      <td>15</td>\n",
              "      <td>140</td>\n",
              "      <td>3.1</td>\n",
              "      <td>5.24</td>\n",
              "      <td>1.16</td>\n",
              "    </tr>\n",
              "    <tr>\n",
              "      <th>97</th>\n",
              "      <td>70</td>\n",
              "      <td>25</td>\n",
              "      <td>180</td>\n",
              "      <td>4.0</td>\n",
              "      <td>4.40</td>\n",
              "      <td>1.00</td>\n",
              "    </tr>\n",
              "    <tr>\n",
              "      <th>98</th>\n",
              "      <td>85</td>\n",
              "      <td>21</td>\n",
              "      <td>160</td>\n",
              "      <td>5.2</td>\n",
              "      <td>5.20</td>\n",
              "      <td>0.97</td>\n",
              "    </tr>\n",
              "    <tr>\n",
              "      <th>99</th>\n",
              "      <td>87</td>\n",
              "      <td>22</td>\n",
              "      <td>130</td>\n",
              "      <td>9.0</td>\n",
              "      <td>5.20</td>\n",
              "      <td>2.30</td>\n",
              "    </tr>\n",
              "  </tbody>\n",
              "</table>\n",
              "<p>90 rows × 6 columns</p>\n",
              "</div>\n",
              "      <button class=\"colab-df-convert\" onclick=\"convertToInteractive('df-c8c1ad2b-24d2-4a79-a58f-e1a5dfbe5180')\"\n",
              "              title=\"Convert this dataframe to an interactive table.\"\n",
              "              style=\"display:none;\">\n",
              "        \n",
              "  <svg xmlns=\"http://www.w3.org/2000/svg\" height=\"24px\"viewBox=\"0 0 24 24\"\n",
              "       width=\"24px\">\n",
              "    <path d=\"M0 0h24v24H0V0z\" fill=\"none\"/>\n",
              "    <path d=\"M18.56 5.44l.94 2.06.94-2.06 2.06-.94-2.06-.94-.94-2.06-.94 2.06-2.06.94zm-11 1L8.5 8.5l.94-2.06 2.06-.94-2.06-.94L8.5 2.5l-.94 2.06-2.06.94zm10 10l.94 2.06.94-2.06 2.06-.94-2.06-.94-.94-2.06-.94 2.06-2.06.94z\"/><path d=\"M17.41 7.96l-1.37-1.37c-.4-.4-.92-.59-1.43-.59-.52 0-1.04.2-1.43.59L10.3 9.45l-7.72 7.72c-.78.78-.78 2.05 0 2.83L4 21.41c.39.39.9.59 1.41.59.51 0 1.02-.2 1.41-.59l7.78-7.78 2.81-2.81c.8-.78.8-2.07 0-2.86zM5.41 20L4 18.59l7.72-7.72 1.47 1.35L5.41 20z\"/>\n",
              "  </svg>\n",
              "      </button>\n",
              "      \n",
              "  <style>\n",
              "    .colab-df-container {\n",
              "      display:flex;\n",
              "      flex-wrap:wrap;\n",
              "      gap: 12px;\n",
              "    }\n",
              "\n",
              "    .colab-df-convert {\n",
              "      background-color: #E8F0FE;\n",
              "      border: none;\n",
              "      border-radius: 50%;\n",
              "      cursor: pointer;\n",
              "      display: none;\n",
              "      fill: #1967D2;\n",
              "      height: 32px;\n",
              "      padding: 0 0 0 0;\n",
              "      width: 32px;\n",
              "    }\n",
              "\n",
              "    .colab-df-convert:hover {\n",
              "      background-color: #E2EBFA;\n",
              "      box-shadow: 0px 1px 2px rgba(60, 64, 67, 0.3), 0px 1px 3px 1px rgba(60, 64, 67, 0.15);\n",
              "      fill: #174EA6;\n",
              "    }\n",
              "\n",
              "    [theme=dark] .colab-df-convert {\n",
              "      background-color: #3B4455;\n",
              "      fill: #D2E3FC;\n",
              "    }\n",
              "\n",
              "    [theme=dark] .colab-df-convert:hover {\n",
              "      background-color: #434B5C;\n",
              "      box-shadow: 0px 1px 3px 1px rgba(0, 0, 0, 0.15);\n",
              "      filter: drop-shadow(0px 1px 2px rgba(0, 0, 0, 0.3));\n",
              "      fill: #FFFFFF;\n",
              "    }\n",
              "  </style>\n",
              "\n",
              "      <script>\n",
              "        const buttonEl =\n",
              "          document.querySelector('#df-c8c1ad2b-24d2-4a79-a58f-e1a5dfbe5180 button.colab-df-convert');\n",
              "        buttonEl.style.display =\n",
              "          google.colab.kernel.accessAllowed ? 'block' : 'none';\n",
              "\n",
              "        async function convertToInteractive(key) {\n",
              "          const element = document.querySelector('#df-c8c1ad2b-24d2-4a79-a58f-e1a5dfbe5180');\n",
              "          const dataTable =\n",
              "            await google.colab.kernel.invokeFunction('convertToInteractive',\n",
              "                                                     [key], {});\n",
              "          if (!dataTable) return;\n",
              "\n",
              "          const docLinkHtml = 'Like what you see? Visit the ' +\n",
              "            '<a target=\"_blank\" href=https://colab.research.google.com/notebooks/data_table.ipynb>data table notebook</a>'\n",
              "            + ' to learn more about interactive tables.';\n",
              "          element.innerHTML = '';\n",
              "          dataTable['output_type'] = 'display_data';\n",
              "          await google.colab.output.renderOutput(dataTable, element);\n",
              "          const docLink = document.createElement('div');\n",
              "          docLink.innerHTML = docLinkHtml;\n",
              "          element.appendChild(docLink);\n",
              "        }\n",
              "      </script>\n",
              "    </div>\n",
              "  </div>\n",
              "  "
            ]
          },
          "metadata": {},
          "execution_count": 22
        }
      ]
    },
    {
      "cell_type": "code",
      "source": [
        "ax = sns.boxplot(data=df3, orient=\"h\", palette=\"Set2\")"
      ],
      "metadata": {
        "colab": {
          "base_uri": "https://localhost:8080/",
          "height": 265
        },
        "id": "uakhzJLeiGiJ",
        "outputId": "1d46a3a5-3a88-4f2a-fe40-5676a42ccd55"
      },
      "execution_count": 37,
      "outputs": [
        {
          "output_type": "display_data",
          "data": {
            "text/plain": [
              "<Figure size 432x288 with 1 Axes>"
            ],
            "image/png": "[encoded data removed]"
          },
          "metadata": {
            "needs_background": "light"
          }
        }
      ]
    }
  ]
}