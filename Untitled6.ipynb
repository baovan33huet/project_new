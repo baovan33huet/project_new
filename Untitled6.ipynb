{
  "nbformat": 4,
  "nbformat_minor": 0,
  "metadata": {
    "colab": {
      "name": "Untitled6.ipynb",
      "provenance": [],
      "toc_visible": true
    },
    "kernelspec": {
      "name": "python3",
      "display_name": "Python 3"
    },
    "language_info": {
      "name": "python"
    }
  },
  "cells": [
    {
      "cell_type": "code",
      "execution_count": 7,
      "metadata": {
        "colab": {
          "base_uri": "https://localhost:8080/"
        },
        "id": "cJEHvZTF-5LF",
        "outputId": "a34d6dc4-4a1f-4440-ad11-a574b3f74a8c"
      },
      "outputs": [
        {
          "output_type": "stream",
          "name": "stdout",
          "text": [
            "xin chao tri\n"
          ]
        }
      ],
      "source": [
        "def hello(name):\n",
        "  print('xin chao', name)\n",
        "hello('tri')"
      ]
    },
    {
      "cell_type": "code",
      "source": [
        "hello('thay cuong')"
      ],
      "metadata": {
        "colab": {
          "base_uri": "https://localhost:8080/"
        },
        "id": "CwLeQgwM_Hy6",
        "outputId": "9345b371-09d1-4803-9594-470aa30ca016"
      },
      "execution_count": 9,
      "outputs": [
        {
          "output_type": "stream",
          "name": "stdout",
          "text": [
            "xin chao thay cuong\n"
          ]
        }
      ]
    },
    {
      "cell_type": "code",
      "source": [
        "def f(x):\n",
        "  return 3*x*x + 2*x +1\n",
        "print(f(1))\n",
        "print(f(2))"
      ],
      "metadata": {
        "colab": {
          "base_uri": "https://localhost:8080/"
        },
        "id": "hx6qTL-RAh0A",
        "outputId": "d36ff55d-4195-451b-d295-df114d8ad86c"
      },
      "execution_count": 12,
      "outputs": [
        {
          "output_type": "stream",
          "name": "stdout",
          "text": [
            "6\n",
            "17\n"
          ]
        }
      ]
    },
    {
      "cell_type": "code",
      "source": [
        "def giaithua(x):\n",
        "  giaithua = 1\n",
        "  for i in range(x,1,-1):\n",
        "    giaithua = giaithua * i\n",
        "  return giaithua\n",
        "\n",
        "giaithua(5)"
      ],
      "metadata": {
        "colab": {
          "base_uri": "https://localhost:8080/"
        },
        "id": "RqgU_u05A3wk",
        "outputId": "20b7390a-bbef-4afe-b11f-3ae29e364d88"
      },
      "execution_count": 13,
      "outputs": [
        {
          "output_type": "execute_result",
          "data": {
            "text/plain": [
              "120"
            ]
          },
          "metadata": {},
          "execution_count": 13
        }
      ]
    },
    {
      "cell_type": "code",
      "source": [
        "#giaithua de quy\n",
        "def giaithuadq(x):\n",
        "  if (x == 0) or (x == 1):\n",
        "    return 1\n",
        "  else:\n",
        "    print(x)\n",
        "    return x * giaithuadq(x - 1)\n",
        "giaithuadq(5)"
      ],
      "metadata": {
        "colab": {
          "base_uri": "https://localhost:8080/"
        },
        "id": "UdRB3efMDWeG",
        "outputId": "a376a5b2-a59b-4f7d-f48e-bee922405b62"
      },
      "execution_count": 15,
      "outputs": [
        {
          "output_type": "stream",
          "name": "stdout",
          "text": [
            "5\n",
            "4\n",
            "3\n",
            "2\n"
          ]
        },
        {
          "output_type": "execute_result",
          "data": {
            "text/plain": [
              "120"
            ]
          },
          "metadata": {},
          "execution_count": 15
        }
      ]
    }
  ]
}