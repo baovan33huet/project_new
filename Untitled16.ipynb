{
  "nbformat": 4,
  "nbformat_minor": 0,
  "metadata": {
    "colab": {
      "name": "Untitled16.ipynb",
      "provenance": [],
      "collapsed_sections": []
    },
    "kernelspec": {
      "name": "python3",
      "display_name": "Python 3"
    },
    "language_info": {
      "name": "python"
    }
  },
  "cells": [
    {
      "cell_type": "code",
      "execution_count": 1,
      "metadata": {
        "id": "IhDmFbbWUpkk"
      },
      "outputs": [],
      "source": [
        "import numpy as np"
      ]
    },
    {
      "cell_type": "markdown",
      "source": [
        "Câu 1: Hãy trình bày cú pháp của hàm apply_along_axis() và ý nghĩa của từng tham số của hàm"
      ],
      "metadata": {
        "id": "ifPIaQ4NU6MX"
      }
    },
    {
      "cell_type": "code",
      "source": [
        "def my_func(a):\n",
        "    \"\"\"Average first and last element of a 1-D array\"\"\"\n",
        "    return (a[0] + a[-1]) * 0.5\n",
        "b = np.array([[1,2,3], [4,5,6], [7,8,9]])\n",
        "np.apply_along_axis(my_func, 0, b)\n",
        "# np.apply_along_axis(my_func, 1, b)"
      ],
      "metadata": {
        "colab": {
          "base_uri": "https://localhost:8080/"
        },
        "id": "nRTFFbibU7IO",
        "outputId": "61d5910f-bfae-4970-ac0f-52a3544176a0"
      },
      "execution_count": 2,
      "outputs": [
        {
          "output_type": "execute_result",
          "data": {
            "text/plain": [
              "array([4., 5., 6.])"
            ]
          },
          "metadata": {},
          "execution_count": 2
        }
      ]
    },
    {
      "cell_type": "code",
      "source": [
        "c = np.array([1, 4, 8])\n",
        "my_func(c)"
      ],
      "metadata": {
        "colab": {
          "base_uri": "https://localhost:8080/"
        },
        "id": "s-1Vgd7oVCTG",
        "outputId": "ae964099-1bc7-42f8-d8a9-c4b2709e68ab"
      },
      "execution_count": 3,
      "outputs": [
        {
          "output_type": "execute_result",
          "data": {
            "text/plain": [
              "4.5"
            ]
          },
          "metadata": {},
          "execution_count": 3
        }
      ]
    },
    {
      "cell_type": "code",
      "source": [
        "np.apply_along_axis(np.min, 0, b)"
      ],
      "metadata": {
        "colab": {
          "base_uri": "https://localhost:8080/"
        },
        "id": "MoW-x_I7VFjl",
        "outputId": "7b4467ec-30db-48fa-ea32-df826f6851d1"
      },
      "execution_count": 4,
      "outputs": [
        {
          "output_type": "execute_result",
          "data": {
            "text/plain": [
              "array([1, 2, 3])"
            ]
          },
          "metadata": {},
          "execution_count": 4
        }
      ]
    },
    {
      "cell_type": "markdown",
      "source": [
        ""
      ],
      "metadata": {
        "id": "uAJu2WFfVGjc"
      }
    },
    {
      "cell_type": "markdown",
      "source": [
        "#numpy. apply_along_axis ( func1d , axis , arr )\n",
        "#funcld: là 1 tên hàm mình tự định nghĩa\n",
        "#axis: trục dọc hoặc ngang 0 là dọc 1 là ngang\n",
        "#arr: là 1 mảng"
      ],
      "metadata": {
        "id": "a3oMQbEzVGtS"
      }
    },
    {
      "cell_type": "code",
      "source": [
        ""
      ],
      "metadata": {
        "id": "Z5-aV-pbVLO_"
      },
      "execution_count": null,
      "outputs": []
    },
    {
      "cell_type": "markdown",
      "source": [
        "Câu 2: Tạo một ma trận A15x17 có giá trị ngẫu nhiên"
      ],
      "metadata": {
        "id": "sYA92WzFVNfq"
      }
    },
    {
      "cell_type": "code",
      "source": [
        "matrix = np.random.randint(-10, 10, (15, 17))\n",
        "matrix"
      ],
      "metadata": {
        "colab": {
          "base_uri": "https://localhost:8080/"
        },
        "id": "kDViW091VZK9",
        "outputId": "fe041f60-1379-4ec0-cf14-ebbb837d9960"
      },
      "execution_count": 5,
      "outputs": [
        {
          "output_type": "execute_result",
          "data": {
            "text/plain": [
              "array([[ -7,   5,   4,  -8,   1, -10,  -9,   6,   3,  -7,   4,  -3,   0,\n",
              "          5,   1,  -8,   5],\n",
              "       [ -4,  -1,  -2,  -4,   2,   8,  -1,   6,   4,   9,   3,  -9,   9,\n",
              "          8,  -8,   5,   1],\n",
              "       [ -6,  -5,  -8,  -8,   0,   1,  -1,  -4,   3,   7,   0,   3,  -9,\n",
              "         -9,  -9,   6,   7],\n",
              "       [ -6, -10,   9,   7,  -6,   6, -10,   1,   0,  -5,   0,  -1,   6,\n",
              "          5,  -4,   3,   8],\n",
              "       [-10,   4, -10,  -1,   7,  -7,   9,  -8,   7,   3,   0,  -3,   0,\n",
              "         -8,   1,  -6,   6],\n",
              "       [  0,   7,   1,   8,   0,  -5,   1,   0,  -3,   6,   8,  -7,  -9,\n",
              "         -1,   1,   2,   5],\n",
              "       [ -7, -10,  -7,  -5,   7,  -5,   6,   6,  -6,   7, -10,   7,  -6,\n",
              "          3,   9,   8,   0],\n",
              "       [  8,  -8,   7,   9,  -3,  -7,  -5,  -8,  -8,   4,  -6,  -9,  -9,\n",
              "         -7,  -9,   4,  -8],\n",
              "       [-10,  -4,   2,   1,   1,   7,   5,  -5,   5,  -4,  -9,   7,  -9,\n",
              "          1,   0,  -2,   2],\n",
              "       [-10,  -8,   1,  -1,  -4,  -1,  -4,   0,  -2,   0,  -8,   5,  -5,\n",
              "         -9,   3,  -6,   1],\n",
              "       [ -8,   4,  -3,  -7,   1,   9,   6,   5,   8,   1,   6,   0,   4,\n",
              "          2,   6,  -1,  -6],\n",
              "       [  9,   5,   6,  -2,  -1,   0,   7,   6,   9,   5,   8,  -7,   5,\n",
              "         -8,   2,   1,   9],\n",
              "       [  6,   7,  -5,   0,   9,  -9,  -1,  -4,   4,   4,   5,  -2,  -2,\n",
              "         -8,  -1,   6,   9],\n",
              "       [ -5,   7,  -5,  -9,  -7,  -8,   1,  -2,   5,  -8,   4,  -3,   2,\n",
              "        -10,   6,   6,  -4],\n",
              "       [ -9,   7,  -4,  -2,  -4, -10,  -8, -10,  -6,  -8,  -2,   8,  -6,\n",
              "          8,  -8,   6,   1]])"
            ]
          },
          "metadata": {},
          "execution_count": 5
        }
      ]
    },
    {
      "cell_type": "code",
      "source": [
        ""
      ],
      "metadata": {
        "id": "GPQvoxGCVgMm"
      },
      "execution_count": null,
      "outputs": []
    },
    {
      "cell_type": "markdown",
      "source": [
        ""
      ],
      "metadata": {
        "id": "JpjZCST2VwfW"
      }
    },
    {
      "cell_type": "code",
      "source": [
        "Câu 3: Xây dựng hàm tìm giá trị lớn nhất có tên là tim_gia_tri_lon_nhat(vector_a) có tham số đầu vào là 1 vector a và giá trị trả về là giá trị phần tử lớn nhất của vector này.\n",
        " Áp dụng hàm này theo từng hàng của ma trận A ở Câu 1 và xuất kết quả ra màn hình."
      ],
      "metadata": {
        "id": "rpb-4dJRVvyc"
      },
      "execution_count": null,
      "outputs": []
    },
    {
      "cell_type": "code",
      "source": [
        "def MAX_VECTOR(vector_a):\n",
        "  return np.max(vector_a)\n",
        "\n",
        "matrix_ = np.apply_along_axis(MAX_VECTOR, 1, matrix)\n",
        "matrix_"
      ],
      "metadata": {
        "colab": {
          "base_uri": "https://localhost:8080/"
        },
        "id": "_qAFFmHpVyyh",
        "outputId": "3c65c864-37dc-44a6-84d8-2ff9530656bb"
      },
      "execution_count": 6,
      "outputs": [
        {
          "output_type": "execute_result",
          "data": {
            "text/plain": [
              "array([6, 9, 7, 9, 9, 8, 9, 9, 7, 5, 9, 9, 9, 7, 8])"
            ]
          },
          "metadata": {},
          "execution_count": 6
        }
      ]
    },
    {
      "cell_type": "code",
      "source": [
        "\n"
      ],
      "metadata": {
        "id": "YNY_3njkWAWg"
      },
      "execution_count": null,
      "outputs": []
    },
    {
      "cell_type": "markdown",
      "source": [
        "Câu 4: Xây dựng hàm tìm giá trị nhỏ nhất có tên là tim_gia_tri_nho_nhat(vector_a) có tham số đầu vào là 1 vector a và giá trị trả về là giá trị phần tử nhỏ nhất của vector này.\n",
        " Áp dụng hàm này theo từng cột của ma trận A ở Câu 1 và xuất kết quả ra màn hình."
      ],
      "metadata": {
        "id": "uM83pkRLWRuH"
      }
    },
    {
      "cell_type": "code",
      "source": [
        "def MIN_VECTOR(vector_a):\n",
        "  return np.min(vector_a)\n",
        "\n",
        "matrix_ = np.apply_along_axis(MIN_VECTOR, 0, matrix)\n",
        "matrix_"
      ],
      "metadata": {
        "colab": {
          "base_uri": "https://localhost:8080/"
        },
        "id": "I0jft4ZiWTZu",
        "outputId": "fd4fa9a0-668f-4645-e1e5-d54d7e5fb923"
      },
      "execution_count": 8,
      "outputs": [
        {
          "output_type": "execute_result",
          "data": {
            "text/plain": [
              "array([-10, -10, -10,  -9,  -7, -10, -10, -10,  -8,  -8, -10,  -9,  -9,\n",
              "       -10,  -9,  -8,  -8])"
            ]
          },
          "metadata": {},
          "execution_count": 8
        }
      ]
    },
    {
      "cell_type": "markdown",
      "source": [
        "Câu 5: Xây dựng hàm tìm giá trị lớn nhất có tên là tinh_tong(vector_a) có tham số đầu vào là 1 vector a và giá trị trả về là tổng các phần tử của vector này. Áp dụng hàm này theo từng hàng của ma trận A ở Câu 1 và xuất kết quả ra màn hình.\n"
      ],
      "metadata": {
        "id": "u7yCON0IWgUY"
      }
    },
    {
      "cell_type": "code",
      "source": [
        "def SUM_VECTOR(vector_a):\n",
        "  return np.sum(vector_a)\n",
        "\n",
        "matrix_ = np.apply_along_axis(SUM_VECTOR, 1, matrix)\n",
        "matrix_"
      ],
      "metadata": {
        "colab": {
          "base_uri": "https://localhost:8080/"
        },
        "id": "NTA3Wc3AWhXO",
        "outputId": "a5946efb-ddac-4114-a27c-4aefacd41980"
      },
      "execution_count": 9,
      "outputs": [
        {
          "output_type": "execute_result",
          "data": {
            "text/plain": [
              "array([-18,  26, -32,   3, -16,  14,  -3, -55, -12, -48,  27,  54,  18,\n",
              "       -30, -47])"
            ]
          },
          "metadata": {},
          "execution_count": 9
        }
      ]
    },
    {
      "cell_type": "markdown",
      "source": [
        "Câu 6: Xây dựng hàm tìm giá trị lớn nhất có tên là tinh_tong_2(vector_a) có tham số đầu vào là 1 vector a và giá trị trả về là tổng các phần tử có chỉ số lẻ (1 – 3 – 5 , .v.v.) của vector này. Áp dụng hàm này theo từng cột của ma trận A ở Câu 1 và xuất kết quả ra màn hình. Tiếp tục áp dụng hàm này theo từng hàng của ma trận A kể trên và xuất kết quả ra màn hình."
      ],
      "metadata": {
        "id": "-cGUGPoOWtnl"
      }
    },
    {
      "cell_type": "code",
      "source": [
        "def SUM_2(vector_a):\n",
        "  return np.sum(vector_a[vector_a%2!=0])\n",
        "\n",
        "matrix_ = np.apply_along_axis(SUM_2, 1, matrix)\n",
        "matrix_"
      ],
      "metadata": {
        "colab": {
          "base_uri": "https://localhost:8080/"
        },
        "id": "QdLuhyJ3Wuo6",
        "outputId": "c4cfe17d-1d17-459a-a76d-567fa157bcde"
      },
      "execution_count": 10,
      "outputs": [
        {
          "output_type": "execute_result",
          "data": {
            "text/plain": [
              "array([ -6,  16, -12,  19,  16, -10,   9, -33,   4,  -6,   5,  42,  14,\n",
              "       -16,  -1])"
            ]
          },
          "metadata": {},
          "execution_count": 10
        }
      ]
    }
  ]
}