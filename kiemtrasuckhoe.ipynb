{
  "nbformat": 4,
  "nbformat_minor": 0,
  "metadata": {
    "colab": {
      "name": "kiemtrasuckhoe.ipynb",
      "provenance": []
    },
    "kernelspec": {
      "name": "python3",
      "display_name": "Python 3"
    },
    "language_info": {
      "name": "python"
    }
  },
  "cells": [
    {
      "cell_type": "code",
      "execution_count": 1,
      "metadata": {
        "id": "rK13N1eIBAV8"
      },
      "outputs": [],
      "source": [
        "import numpy as np\n",
        "import pandas as pd\n",
        "import matplotlib.pyplot as plt\n",
        "import sklearn\n",
        "from sklearn.linear_model import LinearRegression\n",
        "from sklearn.model_selection import  train_test_split\n",
        "from sklearn import metrics as sq\n",
        "from sklearn import linear_model"
      ]
    },
    {
      "cell_type": "code",
      "source": [
        "clf = linear_model.LinearRegression()"
      ],
      "metadata": {
        "id": "gEJaGEXcDOfn"
      },
      "execution_count": 7,
      "outputs": []
    },
    {
      "cell_type": "markdown",
      "source": [
        " Đọc tệp"
      ],
      "metadata": {
        "id": "ipjv5aKQB6qH"
      }
    },
    {
      "cell_type": "code",
      "source": [
        "data = pd.read_csv(\"DuLieuYKhoa.csv\", sep=\";\")\n",
        "data.head"
      ],
      "metadata": {
        "colab": {
          "base_uri": "https://localhost:8080/"
        },
        "id": "eXstZMEmBY-S",
        "outputId": "7d0b9fad-fa38-4661-97f7-250134d9dfe6"
      },
      "execution_count": 2,
      "outputs": [
        {
          "output_type": "execute_result",
          "data": {
            "text/plain": [
              "<bound method NDFrame.head of     TUOI  BMI   HA  GLUCOSE  CHOLESTEROL  BEDAYTM\n",
              "0     56   21  160     14.0         6.00     1.95\n",
              "1     76   18  150     12.0         4.97     1.33\n",
              "2     63   16  160      4.4         6.39     0.83\n",
              "3     78   20  100      4.0         7.00     2.00\n",
              "4     87   20  110      4.6         4.10     1.30\n",
              "..   ...  ...  ...      ...          ...      ...\n",
              "95    55   24  160      5.0         7.20     0.90\n",
              "96    76   15  140      3.1         5.24     1.16\n",
              "97    70   25  180      4.0         4.40     1.00\n",
              "98    85   21  160      5.2         5.20     0.97\n",
              "99    87   22  130      9.0         5.20     2.30\n",
              "\n",
              "[100 rows x 6 columns]>"
            ]
          },
          "metadata": {},
          "execution_count": 2
        }
      ]
    },
    {
      "cell_type": "markdown",
      "source": [
        "Lấy dataframe bề dày thành mạch làm biên mục tiêu"
      ],
      "metadata": {
        "id": "C4Ke7PnaClu1"
      }
    },
    {
      "cell_type": "code",
      "source": [
        "Y = data['BEDAYTM'].to_numpy()"
      ],
      "metadata": {
        "id": "PZoi-IViCpR3"
      },
      "execution_count": 3,
      "outputs": []
    },
    {
      "cell_type": "markdown",
      "source": [
        "Lấy datafarame không chứa bề dày thành mạch làm biến giải thích"
      ],
      "metadata": {
        "id": "aBRvCV9gC4I1"
      }
    },
    {
      "cell_type": "code",
      "source": [
        "X = data.drop(\"BEDAYTM\", axis = 1)"
      ],
      "metadata": {
        "id": "SZmQZKImCxeX"
      },
      "execution_count": 5,
      "outputs": []
    },
    {
      "cell_type": "markdown",
      "source": [
        "Phân loại dữ liệu train và test"
      ],
      "metadata": {
        "id": "jZmhJV7dDEnV"
      }
    },
    {
      "cell_type": "code",
      "source": [
        "X_train, X_test, Y_train, Y_test = train_test_split(X, Y, test_size = 20)"
      ],
      "metadata": {
        "id": "hbiWkORCDKlI"
      },
      "execution_count": 6,
      "outputs": []
    },
    {
      "cell_type": "code",
      "source": [
        "#Tạo model suy đoán\n",
        "clf.fit(X_train, Y_train)\n",
        "#In hệ số hồi quy của các biến giải thích xếp theo thứ tự tăng dần\n",
        "print(\"\\nHỆ SỐ HỒI QUY\")\n",
        "print(pd.DataFrame({\"Tên\": X_train.columns, \"Hệ số\": np.abs(clf.coef_)}).sort_values(by='Hệ số'))\n",
        "#In sai số\n",
        "print(\"\\nSAI SỐ\")\n",
        "print(clf.intercept_)"
      ],
      "metadata": {
        "colab": {
          "base_uri": "https://localhost:8080/"
        },
        "id": "mKYSnb7SDUw4",
        "outputId": "415fcca3-cee2-4490-ec79-d82118b040c6"
      },
      "execution_count": 10,
      "outputs": [
        {
          "output_type": "stream",
          "name": "stdout",
          "text": [
            "\n",
            "HỆ SỐ HỒI QUY\n",
            "           Tên     Hệ số\n",
            "3      GLUCOSE  0.000416\n",
            "1          BMI  0.000729\n",
            "2           HA  0.002339\n",
            "0         TUOI  0.010674\n",
            "4  CHOLESTEROL  0.034472\n",
            "\n",
            "SAI SỐ\n",
            "-0.12870636603860897\n"
          ]
        }
      ]
    },
    {
      "cell_type": "code",
      "source": [
        "#Tiến hành dự đoán với bộ dữ liệu test\n",
        "Y_pred = clf.predict(X_test)\n",
        "print(\"\\nGIÁ TRỊ Y DỰ ĐOÁN\")\n",
        "print(Y_pred)\n",
        "#In giá trị y test thực tế\n",
        "print(\"\\nGIÁ TRỊ Y THỰC TẾ\")\n",
        "print(Y_test)"
      ],
      "metadata": {
        "colab": {
          "base_uri": "https://localhost:8080/"
        },
        "id": "H-rb3VFTDpy9",
        "outputId": "7f72844a-61b1-4a2d-a68e-3348bd46c24f"
      },
      "execution_count": 11,
      "outputs": [
        {
          "output_type": "stream",
          "name": "stdout",
          "text": [
            "\n",
            "GIÁ TRỊ Y DỰ ĐOÁN\n",
            "[0.95572193 1.07131324 0.91352602 1.25488546 1.05062117 0.95364451\n",
            " 1.06943839 1.03347408 1.24942254 1.12651186 1.00464122 1.04240984\n",
            " 0.98556192 1.21511323 1.15015606 1.06305116 0.74641345 1.27436653\n",
            " 1.1854493  1.04803292]\n",
            "\n",
            "GIÁ TRỊ Y THỰC TẾ\n",
            "[0.99 1.95 0.88 0.97 0.89 0.8  1.1  0.99 1.   1.7  1.01 0.8  0.8  1.3\n",
            " 1.   1.19 0.7  0.8  1.7  1.1 ]\n"
          ]
        }
      ]
    },
    {
      "cell_type": "code",
      "source": [
        "#Kiểm tra mức độ lỗi của model (Mean Squared Error)\n",
        "mse = sq.mean_squared_error(Y_test, Y_pred)\n",
        "print(\"KIỂM TRA MỨC ĐỘ LỖI CỦA MÔ HÌNH\")\n",
        "print(mse)"
      ],
      "metadata": {
        "colab": {
          "base_uri": "https://localhost:8080/"
        },
        "id": "QCMafCNRDtvX",
        "outputId": "a637013b-4f42-4ea9-f08e-345a69964c4e"
      },
      "execution_count": 12,
      "outputs": [
        {
          "output_type": "stream",
          "name": "stdout",
          "text": [
            "KIỂM TRA MỨC ĐỘ LỖI CỦA MÔ HÌNH\n",
            "0.09663065427581491\n"
          ]
        }
      ]
    },
    {
      "cell_type": "code",
      "source": [
        "#Bảng biểu so sánh giá trị y dự đoán và y thực tế\n",
        "plt.scatter(Y_test, Y_pred)\n",
        "plt.xlabel(\"Giá trị thực tế: $Y_i$\")\n",
        "plt.ylabel(\"Giá trị dự đoán: $\\hat{Y}_i$\")\n",
        "plt.title(\"Bảng biểu so sánh $Y_i$ vs $\\hat{Y}_i$\")\n",
        "plt.show()"
      ],
      "metadata": {
        "colab": {
          "base_uri": "https://localhost:8080/",
          "height": 306
        },
        "id": "BOY_ctRaD0RO",
        "outputId": "2abdb9e6-fc96-491d-ab00-027ea0dce9e1"
      },
      "execution_count": 13,
      "outputs": [
        {
          "output_type": "display_data",
          "data": {
            "text/plain": [
              "<Figure size 432x288 with 1 Axes>"
            ],
            "image/png": "[encoded data removed]"
          },
          "metadata": {
            "needs_background": "light"
          }
        }
      ]
    }
  ]
}