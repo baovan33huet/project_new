{
  "nbformat": 4,
  "nbformat_minor": 0,
  "metadata": {
    "colab": {
      "name": "Untitled9.ipynb",
      "provenance": []
    },
    "kernelspec": {
      "name": "python3",
      "display_name": "Python 3"
    },
    "language_info": {
      "name": "python"
    }
  },
  "cells": [
    {
      "cell_type": "code",
      "execution_count": 1,
      "metadata": {
        "id": "u_YzqC41JaMs"
      },
      "outputs": [],
      "source": [
        "import numpy as np"
      ]
    },
    {
      "cell_type": "code",
      "source": [
        "#cau 1\n",
        "def my_func(a):\n",
        "    \"\"\"Average first and last element of a 1-D array\"\"\"\n",
        "    return (a[0] + a[-1]) * 0.5\n",
        "b = np.array([[1,2,3], [4,5,6], [7,8,9]])\n",
        "np.apply_along_axis(my_func, 0, b)\n",
        "# np.apply_along_axis(my_func, 1, b)\n"
      ],
      "metadata": {
        "colab": {
          "base_uri": "https://localhost:8080/"
        },
        "id": "LxAEi5IUJeSq",
        "outputId": "d4acf2f4-c921-48bd-9cff-9294abe1e721"
      },
      "execution_count": 4,
      "outputs": [
        {
          "output_type": "execute_result",
          "data": {
            "text/plain": [
              "array([4., 5., 6.])"
            ]
          },
          "metadata": {},
          "execution_count": 4
        }
      ]
    },
    {
      "cell_type": "code",
      "source": [
        "c = np.array([1, 4, 8])\n",
        "my_func(c)"
      ],
      "metadata": {
        "colab": {
          "base_uri": "https://localhost:8080/"
        },
        "id": "mkdbuNUkKqO_",
        "outputId": "f63c03de-4001-4897-a296-7b291fc91ce7"
      },
      "execution_count": 5,
      "outputs": [
        {
          "output_type": "execute_result",
          "data": {
            "text/plain": [
              "4.5"
            ]
          },
          "metadata": {},
          "execution_count": 5
        }
      ]
    },
    {
      "cell_type": "code",
      "source": [
        "np.apply_along_axis(np.min, 0, b)"
      ],
      "metadata": {
        "colab": {
          "base_uri": "https://localhost:8080/"
        },
        "id": "6_B6nPb0LVED",
        "outputId": "92e9d901-9adc-479b-fccb-1ff0ce321b14"
      },
      "execution_count": 8,
      "outputs": [
        {
          "output_type": "execute_result",
          "data": {
            "text/plain": [
              "array([1, 2, 3])"
            ]
          },
          "metadata": {},
          "execution_count": 8
        }
      ]
    },
    {
      "cell_type": "code",
      "source": [
        "#numpy. apply_along_axis ( func1d , axis , arr )\n",
        "#funcld: là 1 tên hàm mình tự định nghĩa\n",
        "#axis: trục dọc hoặc ngang 0 là dọc 1 là ngang\n",
        "#arr: là 1 mảng"
      ],
      "metadata": {
        "id": "jEmmW2M2L65Q"
      },
      "execution_count": null,
      "outputs": []
    }
  ]
}