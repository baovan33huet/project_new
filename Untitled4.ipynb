{
  "nbformat": 4,
  "nbformat_minor": 0,
  "metadata": {
    "colab": {
      "name": "Untitled4.ipynb",
      "provenance": [],
      "collapsed_sections": [],
      "toc_visible": true
    },
    "kernelspec": {
      "name": "python3",
      "display_name": "Python 3"
    },
    "language_info": {
      "name": "python"
    }
  },
  "cells": [
    {
      "cell_type": "code",
      "source": [
        "import numpy as np"
      ],
      "metadata": {
        "id": "2M_wIZAu9kaB"
      },
      "execution_count": null,
      "outputs": []
    },
    {
      "cell_type": "code",
      "source": [
        "#tao mang 1 chieu\n",
        "arr = np.array([1,3,4,5,6])\n",
        "print(arr)"
      ],
      "metadata": {
        "colab": {
          "base_uri": "https://localhost:8080/"
        },
        "id": "2Bt2dSNd9prj",
        "outputId": "e40501eb-34a9-467d-970f-996c7f615cc9"
      },
      "execution_count": null,
      "outputs": [
        {
          "output_type": "stream",
          "name": "stdout",
          "text": [
            "[1 3 4 5 6]\n"
          ]
        }
      ]
    },
    {
      "cell_type": "code",
      "source": [
        "#tao mang 2 chieu\n",
        "arr1 = np.array([(4,5,6), (1,2,3)], dtype = int)\n",
        "print(arr1)"
      ],
      "metadata": {
        "colab": {
          "base_uri": "https://localhost:8080/"
        },
        "id": "tg91sTRI9zqm",
        "outputId": "2bc7d06e-f38c-4cc5-f1b2-0196c5f2e1d3"
      },
      "execution_count": null,
      "outputs": [
        {
          "output_type": "stream",
          "name": "stdout",
          "text": [
            "[[4 5 6]\n",
            " [1 2 3]]\n"
          ]
        }
      ]
    },
    {
      "cell_type": "code",
      "source": [
        "#Truy cập tới phần tử thứ i của mảng .\n",
        "print(\"arr[2]=\", arr[2])\n",
        "print(\"arr1[1:2]=\", arr1[1,2])\n",
        "print(\"arr1[1:1]=\", arr1[1,1])\n"
      ],
      "metadata": {
        "colab": {
          "base_uri": "https://localhost:8080/"
        },
        "id": "Pngbvjmh-MgQ",
        "outputId": "df20bc63-0be6-4746-b83d-ed9af68c0716"
      },
      "execution_count": null,
      "outputs": [
        {
          "output_type": "stream",
          "name": "stdout",
          "text": [
            "arr[2]= 4\n",
            "arr1[1:2]= 3\n",
            "arr1[1:1]= 2\n"
          ]
        }
      ]
    },
    {
      "cell_type": "code",
      "source": [
        "#tao ma tran\n",
        "A = np.array([[1, 2],\n",
        "              [3, 4]])\n",
        "\n",
        "print(A)\n",
        "print(\"dtype of matrix A: \", A.dtype)"
      ],
      "metadata": {
        "colab": {
          "base_uri": "https://localhost:8080/"
        },
        "id": "PhJBjpIdBxnY",
        "outputId": "60b8e4d6-0f61-4f31-dbf0-898206900c8b"
      },
      "execution_count": null,
      "outputs": [
        {
          "output_type": "stream",
          "name": "stdout",
          "text": [
            "[[1 2]\n",
            " [3 4]]\n",
            "dtype of matrix A:  int64\n"
          ]
        }
      ]
    },
    {
      "cell_type": "code",
      "source": [
        "#cong tru hai ma tran\n",
        "A = np.array([[1, 4, 2],\n",
        "              [3, 2, 1],\n",
        "              [4, 6, 7]])\n",
        "B = np.array([[0, 3, 4],\n",
        "              [3, 4, 2],\n",
        "              [4, 6, 8]])\n",
        "print('A + B:', A + B)\n",
        "\n",
        "print('A - B:', A - B)\n"
      ],
      "metadata": {
        "colab": {
          "base_uri": "https://localhost:8080/"
        },
        "id": "18hPB3u4AJHr",
        "outputId": "8beb1ca5-614a-49e6-d4dc-8c926a312f85"
      },
      "execution_count": null,
      "outputs": [
        {
          "output_type": "stream",
          "name": "stdout",
          "text": [
            "A + B: [[ 1  7  6]\n",
            " [ 6  6  3]\n",
            " [ 8 12 15]]\n",
            "A - B: [[ 1  1 -2]\n",
            " [ 0 -2 -1]\n",
            " [ 0  0 -1]]\n"
          ]
        }
      ]
    },
    {
      "cell_type": "code",
      "source": [
        "#nhan chia hai ma tran\n",
        "A = np.array([[1, 4, 2],\n",
        "              [3, 2, 1]])\n",
        "\n",
        "B = np.array([[0, 3],\n",
        "              [3, 4],\n",
        "              [4, 6]])\n",
        "\n",
        "np.dot(A, B)"
      ],
      "metadata": {
        "colab": {
          "base_uri": "https://localhost:8080/"
        },
        "id": "V4yywOj0C1Lw",
        "outputId": "4f121c78-0408-48b4-b0d7-8812b552d9b9"
      },
      "execution_count": null,
      "outputs": [
        {
          "output_type": "execute_result",
          "data": {
            "text/plain": [
              "array([[20, 31],\n",
              "       [10, 23]])"
            ]
          },
          "metadata": {},
          "execution_count": 29
        }
      ]
    }
  ]
}