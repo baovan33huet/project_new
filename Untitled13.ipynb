{
  "nbformat": 4,
  "nbformat_minor": 0,
  "metadata": {
    "colab": {
      "name": "Untitled13.ipynb",
      "provenance": [],
      "collapsed_sections": []
    },
    "kernelspec": {
      "name": "python3",
      "display_name": "Python 3"
    },
    "language_info": {
      "name": "python"
    }
  },
  "cells": [
    {
      "cell_type": "markdown",
      "source": [
        "\n",
        "\n",
        "Bài 8 - Phép chuyển vị (transpose): trong numpy, một vector a khi thực hiện chuyển vị sẽ được thực hiện thông qua thao tác a.T Hãy viết chương trình sinh ngẫu nhiên một vector a trong không gian , số nguyên dương n được nhập vào từ bàn phím. Xuất ra màn hình giá của vector a và chuyển vị của vector a .\n"
      ],
      "metadata": {
        "id": "cKUKsssLiKwh"
      }
    },
    {
      "cell_type": "code",
      "execution_count": 1,
      "metadata": {
        "id": "Uggh0fsmOnhI",
        "colab": {
          "base_uri": "https://localhost:8080/"
        },
        "outputId": "5c21c907-d541-49d7-9d5c-35e93e8a4cb4"
      },
      "outputs": [
        {
          "output_type": "stream",
          "name": "stdout",
          "text": [
            "n: 5\n",
            "vector a: [1 2 7 7 5]\n",
            "transpose a: [1 2 7 7 5]\n"
          ]
        }
      ],
      "source": [
        "import numpy as np\n",
        "n = int(input(\"n: \"))\n",
        "a = np.random.randint(10, size=n)\n",
        "print(\"vector a:\", a)\n",
        "print(\"transpose a:\", a.T)"
      ]
    },
    {
      "cell_type": "markdown",
      "source": [
        ""
      ],
      "metadata": {
        "id": "W4ynyiOwiJk6"
      }
    },
    {
      "cell_type": "code",
      "source": [
        ""
      ],
      "metadata": {
        "id": "Z1hgh9tbh7cM"
      },
      "execution_count": null,
      "outputs": []
    },
    {
      "cell_type": "markdown",
      "source": [
        "Bài 9 - Kết hợp cấu trúc list với Numpy:\n",
        "\n",
        "a = [1, 2, 3, 4, 5]\n",
        "b = [[1], [2], [3], [4], [5]]\n",
        "Hãy:\n",
        "\n",
        "Xuất a và b ra màn hình\n",
        "Tạo vector tương ứng từ a và b, xuất kết quả ra màn hình\n",
        "Thực hiện phép chuyển vị đối với 2 vector ở trên và xuất kết quả ra màn hình."
      ],
      "metadata": {
        "id": "979O4H1niSpL"
      }
    },
    {
      "cell_type": "code",
      "source": [
        "#cau 9\n",
        "a = [1, 2, 3, 4, 5]\n",
        "b = [[1], [2], [3], [4], [5]]\n",
        "\n",
        "a_ = np.array(a)\n",
        "b_ = np.array(b)\n",
        "\n",
        "print(a)\n",
        "print(b)\n",
        "\n",
        "print(\"vector a:\", a_)\n",
        "print(\"vector b:\", b_, sep = '\\n')\n",
        "\n",
        "print(\"transpose a:\", a_.T)\n",
        "print(\"transpose b:\", b_.T)"
      ],
      "metadata": {
        "colab": {
          "base_uri": "https://localhost:8080/"
        },
        "id": "rbb7lUmxOrzt",
        "outputId": "abc8b4a1-a676-441a-fca7-c9c423f9cbae"
      },
      "execution_count": null,
      "outputs": [
        {
          "output_type": "stream",
          "name": "stdout",
          "text": [
            "[1, 2, 3, 4, 5]\n",
            "[[1], [2], [3], [4], [5]]\n",
            "vector a: [1 2 3 4 5]\n",
            "vector b:\n",
            "[[1]\n",
            " [2]\n",
            " [3]\n",
            " [4]\n",
            " [5]]\n",
            "transpose a: [1 2 3 4 5]\n",
            "transpose b: [[1 2 3 4 5]]\n"
          ]
        }
      ]
    },
    {
      "cell_type": "markdown",
      "source": [
        "Trong không gian , hãy sinh ngẫu nhiên vector a và b, n là số nguyên dương nhập vào từ bàn phím.\n",
        "\n",
        "Hãy:\n",
        "\n",
        "-Thực hiện phép nhân: ma với m là số bất kỳ, xuất kết quả ra màn hình\n",
        "\n",
        "-Thực hiện phép cộng 2 vector: a + b và xuất kết quả ra màn hình."
      ],
      "metadata": {
        "id": "BBn1vcjqibt-"
      }
    },
    {
      "cell_type": "code",
      "source": [
        "#cau 10\n",
        "n = int(input(\"n: \"))\n",
        "a = np.random.randint(10, size=n)\n",
        "print(\"vector a:\", a)\n",
        "b = np.random.randint(10, size=n)\n",
        "print(\"vector b:\", b)\n",
        "\n",
        "m = int(input(\"m: \"))\n",
        "print(\"a+m:\", a+m)\n",
        "print(\"a+b:\", a+b)"
      ],
      "metadata": {
        "id": "UwJUgDOWPSzX"
      },
      "execution_count": null,
      "outputs": []
    },
    {
      "cell_type": "code",
      "source": [
        ""
      ],
      "metadata": {
        "id": "njrGIRdiia4F"
      },
      "execution_count": null,
      "outputs": []
    },
    {
      "cell_type": "code",
      "source": [
        ""
      ],
      "metadata": {
        "id": "H6uCeMEZPWFZ"
      },
      "execution_count": null,
      "outputs": []
    }
  ]
}