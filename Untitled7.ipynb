{
  "nbformat": 4,
  "nbformat_minor": 0,
  "metadata": {
    "colab": {
      "name": "Untitled7.ipynb",
      "provenance": [],
      "toc_visible": true
    },
    "kernelspec": {
      "name": "python3",
      "display_name": "Python 3"
    },
    "language_info": {
      "name": "python"
    }
  },
  "cells": [
    {
      "cell_type": "code",
      "execution_count": 1,
      "metadata": {
        "id": "EqtcCBP8f0h1"
      },
      "outputs": [],
      "source": [
        "import numpy as np\n"
      ]
    },
    {
      "cell_type": "code",
      "source": [
        "#cau 1\n",
        "A = np.array([5, 7, 14])\n",
        "A"
      ],
      "metadata": {
        "colab": {
          "base_uri": "https://localhost:8080/"
        },
        "id": "-njOXrjOgH7w",
        "outputId": "d178d729-094b-4a1b-ce08-ee363496aecf"
      },
      "execution_count": 2,
      "outputs": [
        {
          "output_type": "execute_result",
          "data": {
            "text/plain": [
              "array([ 5,  7, 14])"
            ]
          },
          "metadata": {},
          "execution_count": 2
        }
      ]
    },
    {
      "cell_type": "code",
      "source": [
        "#cau 2\n",
        "B = np.array([1, 2, 3, 4, 5, 6, 7,\n",
        "8, 9, 10, 11, 12, 13, 14, 15])\n",
        "B"
      ],
      "metadata": {
        "colab": {
          "base_uri": "https://localhost:8080/"
        },
        "id": "HDYAfLOCghGy",
        "outputId": "aaf95992-d3a3-4105-e48e-7bb83a8c1f2e"
      },
      "execution_count": 3,
      "outputs": [
        {
          "output_type": "execute_result",
          "data": {
            "text/plain": [
              "array([ 1,  2,  3,  4,  5,  6,  7,  8,  9, 10, 11, 12, 13, 14, 15])"
            ]
          },
          "metadata": {},
          "execution_count": 3
        }
      ]
    },
    {
      "cell_type": "code",
      "source": [
        "#cau 3\n",
        "n = int(input())\n",
        "np.random.rand(n,1)"
      ],
      "metadata": {
        "colab": {
          "base_uri": "https://localhost:8080/"
        },
        "id": "Ujnwmfgmg44Z",
        "outputId": "e02e2523-6b6a-4509-c9d9-65c38b06cc39"
      },
      "execution_count": 6,
      "outputs": [
        {
          "name": "stdout",
          "output_type": "stream",
          "text": [
            "3\n"
          ]
        },
        {
          "output_type": "execute_result",
          "data": {
            "text/plain": [
              "array([[0.53334866],\n",
              "       [0.10507769],\n",
              "       [0.17418513]])"
            ]
          },
          "metadata": {},
          "execution_count": 6
        }
      ]
    },
    {
      "cell_type": "code",
      "source": [
        "#cau 4\n",
        "A = [1, 1, 0]\n",
        "def length_vector(X):\n",
        "  denta = 0\n",
        "  for i in range(len(X)):\n",
        "    denta += X[i]**2\n",
        "  return np.sqrt(denta)\n",
        "length_vector(A)\n"
      ],
      "metadata": {
        "colab": {
          "base_uri": "https://localhost:8080/"
        },
        "id": "viCiS2kqhrZj",
        "outputId": "0b1fd0fd-61f3-4ac1-aa8b-eb2d1641f7c3"
      },
      "execution_count": 16,
      "outputs": [
        {
          "output_type": "execute_result",
          "data": {
            "text/plain": [
              "1.4142135623730951"
            ]
          },
          "metadata": {},
          "execution_count": 16
        }
      ]
    },
    {
      "cell_type": "code",
      "source": [
        "#cau 5\n",
        "A = np.random.randint(2, size=3)\n",
        "B = np.random.randint(4, size=3)\n",
        "print(\"A =\", A)\n",
        "print(\"B =\", B)\n",
        " \n",
        "def vector_XY(X,Y):\n",
        "  XY = []\n",
        "  for i in range(len(X)):\n",
        "    XY.append(Y[i] - X[i])\n",
        "  return XY\n",
        "\n",
        "AB = vector_XY(A,B)\n",
        "print(\"vector AB:\", AB)\n",
        "print(\"do dai vector AB:\", length_vector(AB))"
      ],
      "metadata": {
        "colab": {
          "base_uri": "https://localhost:8080/"
        },
        "id": "okT4pLpOmavL",
        "outputId": "4ff5c7ab-1649-4eef-8fca-98d9a1581a39"
      },
      "execution_count": 33,
      "outputs": [
        {
          "output_type": "stream",
          "name": "stdout",
          "text": [
            "A = [0 0 1]\n",
            "B = [0 3 0]\n",
            "vector AB: [0, 3, -1]\n",
            "do dai vector AB: 3.1622776601683795\n"
          ]
        }
      ]
    },
    {
      "cell_type": "code",
      "source": [
        "#cau 6\n",
        "np.inner(A,B)"
      ],
      "metadata": {
        "colab": {
          "base_uri": "https://localhost:8080/"
        },
        "id": "cKlrckEyrfFj",
        "outputId": "e1c92f47-c326-47a8-8f02-c01832545308"
      },
      "execution_count": 36,
      "outputs": [
        {
          "output_type": "execute_result",
          "data": {
            "text/plain": [
              "0"
            ]
          },
          "metadata": {},
          "execution_count": 36
        }
      ]
    },
    {
      "cell_type": "code",
      "source": [
        "#cau 7\n",
        "np.cross(A,B)"
      ],
      "metadata": {
        "colab": {
          "base_uri": "https://localhost:8080/"
        },
        "id": "g7L5dqk5rrgT",
        "outputId": "b0094a6b-b1be-43d9-bb1c-82f44c82dcbe"
      },
      "execution_count": 37,
      "outputs": [
        {
          "output_type": "execute_result",
          "data": {
            "text/plain": [
              "array([-3,  0,  0])"
            ]
          },
          "metadata": {},
          "execution_count": 37
        }
      ]
    },
    {
      "cell_type": "code",
      "source": [
        "#cau 8\n"
      ],
      "metadata": {
        "id": "CSGPfbV4rbCr"
      },
      "execution_count": null,
      "outputs": []
    }
  ]
}