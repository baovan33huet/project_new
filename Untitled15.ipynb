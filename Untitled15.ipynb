{
  "nbformat": 4,
  "nbformat_minor": 0,
  "metadata": {
    "colab": {
      "name": "Untitled15.ipynb",
      "provenance": [],
      "collapsed_sections": []
    },
    "kernelspec": {
      "name": "python3",
      "display_name": "Python 3"
    },
    "language_info": {
      "name": "python"
    }
  },
  "cells": [
    {
      "cell_type": "code",
      "execution_count": 1,
      "metadata": {
        "id": "e6jKELpLQ5FE"
      },
      "outputs": [],
      "source": [
        "import numpy as np\n"
      ]
    },
    {
      "cell_type": "code",
      "source": [
        "Bài 1: Sử dụng thư viện NumPy, hãy tạo ra một ma trận A ∈ R7×5, giá trị các phần tử của ma trận được sinh ngẫu nhiên.\n",
        "Kết quả xuất ra màn hình"
      ],
      "metadata": {
        "id": "4WagGMt9Q-92"
      },
      "execution_count": null,
      "outputs": []
    },
    {
      "cell_type": "code",
      "source": [
        "A =np.random.randint(-10, 10, (7, 5))\n",
        "A"
      ],
      "metadata": {
        "colab": {
          "base_uri": "https://localhost:8080/"
        },
        "id": "ww410kRlRL4D",
        "outputId": "e9e0a22b-e45a-41fb-eb2f-d2a3ccd63ebb"
      },
      "execution_count": 2,
      "outputs": [
        {
          "output_type": "execute_result",
          "data": {
            "text/plain": [
              "array([[-7, -1, -5, -2,  6],\n",
              "       [ 6,  9, -3, -4, -6],\n",
              "       [ 1, -5,  3,  7,  3],\n",
              "       [ 4,  0, -9,  6,  5],\n",
              "       [ 0,  3,  8,  6, -7],\n",
              "       [ 1,  2,  2,  2,  4],\n",
              "       [-1,  7,  1, -8, -2]])"
            ]
          },
          "metadata": {},
          "execution_count": 2
        }
      ]
    },
    {
      "cell_type": "markdown",
      "source": [
        "Bài 2 – Ma trận không (zero matrix): Ma trận Am×n được gọi là ma trận không khi ai,j = 0, ∀i,j.Sử dụng thư viện NumPy, hãy tạo một ma trận 0 - A6×7. Gợi ý: sử dụng hàm numpy.zeros((m,n)). Kết quả xuất ra màn hình."
      ],
      "metadata": {
        "id": "JOZVlcUURVXp"
      }
    },
    {
      "cell_type": "code",
      "source": [
        "A = np.zeros((6, 7))\n",
        "A"
      ],
      "metadata": {
        "colab": {
          "base_uri": "https://localhost:8080/"
        },
        "id": "pHiQVO_HRZDR",
        "outputId": "09285e5d-5bc5-4c75-c1cf-b48a33a64d94"
      },
      "execution_count": 3,
      "outputs": [
        {
          "output_type": "execute_result",
          "data": {
            "text/plain": [
              "array([[0., 0., 0., 0., 0., 0., 0.],\n",
              "       [0., 0., 0., 0., 0., 0., 0.],\n",
              "       [0., 0., 0., 0., 0., 0., 0.],\n",
              "       [0., 0., 0., 0., 0., 0., 0.],\n",
              "       [0., 0., 0., 0., 0., 0., 0.],\n",
              "       [0., 0., 0., 0., 0., 0., 0.]])"
            ]
          },
          "metadata": {},
          "execution_count": 3
        }
      ]
    },
    {
      "cell_type": "code",
      "source": [
        "Bài 3 – Ma trận vuông: Là ma trận có số hàng và số cột bằng nhau. Sử dụng thư viện NumPy, hãy tạo ra một ma trận A ∈ R7×7, giá trị các phần tử của ma trận được sinh ngẫu nhiên. \n",
        "Kết quả xuất ra màn hình."
      ],
      "metadata": {
        "id": "RItFIELGRdZQ"
      },
      "execution_count": null,
      "outputs": []
    },
    {
      "cell_type": "code",
      "source": [
        "A = np.random.randint(-10, 10, (7, 7))\n",
        "A"
      ],
      "metadata": {
        "colab": {
          "base_uri": "https://localhost:8080/"
        },
        "id": "3W9tkqLQRiu2",
        "outputId": "5253115e-b77d-4b5a-b38a-9e419be88213"
      },
      "execution_count": 5,
      "outputs": [
        {
          "output_type": "execute_result",
          "data": {
            "text/plain": [
              "array([[  1,   1,  -1,   8,  -1,  -3,   7],\n",
              "       [ -3,  -8,   4,   5,   5,  -7,  -7],\n",
              "       [  9,   3,   2,  -1,   5,  -7,  -3],\n",
              "       [  9,   6,   4,  -9,   9, -10,  -4],\n",
              "       [  2,  -5,   7,   3,  -2,   7,  -7],\n",
              "       [ -4,  -6,  -6,   6,  -8,   5,   6],\n",
              "       [ -5,   2,   2,   2, -10,   7,  -3]])"
            ]
          },
          "metadata": {},
          "execution_count": 5
        }
      ]
    },
    {
      "cell_type": "code",
      "source": [
        "Bài 4 – Ma trận chéo (diagonal matrix): Ma trận vuông có các phần tử trên đường chéo ai,i ≠ 0 trong khi các phần tử còn lại ai,j = 0, ∀i ≠ j. Sử dụng thư viện NumPy, hãy tạo một ma trận chéo A6×6 với phần tử nằm trên đường chéo có giá trị là 15. \n",
        "Gợi ý: sử dụng kết hợp hàm numpy.zeros() và numpy.fill_diagonal(). Kết quả xuất ra màn hình."
      ],
      "metadata": {
        "id": "d1sHgLE2RoSM"
      },
      "execution_count": null,
      "outputs": []
    },
    {
      "cell_type": "code",
      "source": [
        "A = np.zeros((6,6))\n",
        "np.fill_diagonal(A, 15)\n",
        "A"
      ],
      "metadata": {
        "colab": {
          "base_uri": "https://localhost:8080/"
        },
        "id": "l3vhkI8IRr3i",
        "outputId": "c08d80d2-6823-4bfd-956a-b2a703dc7dca"
      },
      "execution_count": 6,
      "outputs": [
        {
          "output_type": "execute_result",
          "data": {
            "text/plain": [
              "array([[15.,  0.,  0.,  0.,  0.,  0.],\n",
              "       [ 0., 15.,  0.,  0.,  0.,  0.],\n",
              "       [ 0.,  0., 15.,  0.,  0.,  0.],\n",
              "       [ 0.,  0.,  0., 15.,  0.,  0.],\n",
              "       [ 0.,  0.,  0.,  0., 15.,  0.],\n",
              "       [ 0.,  0.,  0.,  0.,  0., 15.]])"
            ]
          },
          "metadata": {},
          "execution_count": 6
        }
      ]
    },
    {
      "cell_type": "markdown",
      "source": [
        ""
      ],
      "metadata": {
        "id": "4_20sGuhReEq"
      }
    },
    {
      "cell_type": "markdown",
      "source": [
        "Bài 5 – Ma trận tam giác trên (upper triangular matrix): Ma trận vuông An×n được gọi là ma trận tam giác trên nếu các phần tử nằm trên đường chéo đều khác 0 và các phần tử nằm dưới đường chéo đều bằng 0. Sử dụng thư viện NumPy, hãy tạo một ma trận tam giác trên A8×8. Gợi ý: sử dụng hàm numpy.triu(). Kết quả xuất ra màn hình."
      ],
      "metadata": {
        "id": "4nuwlJ92Rymv"
      }
    },
    {
      "cell_type": "code",
      "source": [
        "A = np.random.randint(-10, 10, (8, 8))\n",
        "A_ = np.triu(A,1)\n",
        "A_"
      ],
      "metadata": {
        "colab": {
          "base_uri": "https://localhost:8080/"
        },
        "id": "kMid8Kp7R2tF",
        "outputId": "a5641415-9444-4e42-ffbb-b7cb1b9afe29"
      },
      "execution_count": 7,
      "outputs": [
        {
          "output_type": "execute_result",
          "data": {
            "text/plain": [
              "array([[ 0,  4, -4, -7,  0,  0, -1, -2],\n",
              "       [ 0,  0, -8,  3,  0, -8,  1,  6],\n",
              "       [ 0,  0,  0, -8,  0, -9, -8,  6],\n",
              "       [ 0,  0,  0,  0, -7, -8,  3,  6],\n",
              "       [ 0,  0,  0,  0,  0,  6,  4,  7],\n",
              "       [ 0,  0,  0,  0,  0,  0,  7, -9],\n",
              "       [ 0,  0,  0,  0,  0,  0,  0,  3],\n",
              "       [ 0,  0,  0,  0,  0,  0,  0,  0]])"
            ]
          },
          "metadata": {},
          "execution_count": 7
        }
      ]
    },
    {
      "cell_type": "markdown",
      "source": [
        ""
      ],
      "metadata": {
        "id": "Las1wvItRC2W"
      }
    },
    {
      "cell_type": "markdown",
      "source": [
        "Bài 6 – Ma trận tam giác dưới (lower triangular matrix): Tương tự bài 5, bạn hãy xây dựng ma trận tam giác dưới. Kết quả xuất ra màn hình.\n",
        "\n"
      ],
      "metadata": {
        "id": "6L4XxjpqR9fJ"
      }
    },
    {
      "cell_type": "code",
      "source": [
        "A_ = np.tril(A,-1)\n",
        "A_\n"
      ],
      "metadata": {
        "colab": {
          "base_uri": "https://localhost:8080/"
        },
        "id": "7OIKtwoFR-Rr",
        "outputId": "edd92067-9730-47a9-c7ec-25ce830ed978"
      },
      "execution_count": 8,
      "outputs": [
        {
          "output_type": "execute_result",
          "data": {
            "text/plain": [
              "array([[  0,   0,   0,   0,   0,   0,   0,   0],\n",
              "       [ -5,   0,   0,   0,   0,   0,   0,   0],\n",
              "       [ -5,   9,   0,   0,   0,   0,   0,   0],\n",
              "       [ -3,   9, -10,   0,   0,   0,   0,   0],\n",
              "       [  2,  -7,   8,   4,   0,   0,   0,   0],\n",
              "       [  6,   9, -10,   0,   1,   0,   0,   0],\n",
              "       [ -8,  -3,  -3,   4,  -6,   3,   0,   0],\n",
              "       [  7,  -2,   9,  -9,   0,  -2,  -1,   0]])"
            ]
          },
          "metadata": {},
          "execution_count": 8
        }
      ]
    },
    {
      "cell_type": "code",
      "source": [
        "Bài 7 – Ma trận đơn vị (identity matrix): Ma trận đơn vị In có số chiều n là một ma trận vuông mà mọi phần tử trên đường chéo chính bằng 1. Sử dụng thư viện NumPy, hãy tạo ra một ma trận I9 .\n",
        " Kết quả xuất ra màn hình. Gợi ý: sử dụng hàm numpy.identity()"
      ],
      "metadata": {
        "id": "MLiS_0AtSErM"
      },
      "execution_count": null,
      "outputs": []
    },
    {
      "cell_type": "code",
      "source": [
        "I = np.identity(9)\n",
        "I"
      ],
      "metadata": {
        "colab": {
          "base_uri": "https://localhost:8080/"
        },
        "id": "-WYeRPYySHMw",
        "outputId": "d1fe4d6f-d466-4c69-ba2c-712d80916f10"
      },
      "execution_count": 9,
      "outputs": [
        {
          "output_type": "execute_result",
          "data": {
            "text/plain": [
              "array([[1., 0., 0., 0., 0., 0., 0., 0., 0.],\n",
              "       [0., 1., 0., 0., 0., 0., 0., 0., 0.],\n",
              "       [0., 0., 1., 0., 0., 0., 0., 0., 0.],\n",
              "       [0., 0., 0., 1., 0., 0., 0., 0., 0.],\n",
              "       [0., 0., 0., 0., 1., 0., 0., 0., 0.],\n",
              "       [0., 0., 0., 0., 0., 1., 0., 0., 0.],\n",
              "       [0., 0., 0., 0., 0., 0., 1., 0., 0.],\n",
              "       [0., 0., 0., 0., 0., 0., 0., 1., 0.],\n",
              "       [0., 0., 0., 0., 0., 0., 0., 0., 1.]])"
            ]
          },
          "metadata": {},
          "execution_count": 9
        }
      ]
    },
    {
      "cell_type": "code",
      "source": [
        "Bài 8 – Phép toán trên ma trận: sử dụng thư viện NumPy để thực hiện các yêu cầu sau:\n",
        "Sinh ngẫu nhiên 2 ma trận có kích thước 6x7. \n",
        "Thực hiện phép cộng 2 ma trận trên. Xuất giá trị các ma trận ra màn hình.\n",
        "Sinh ngẫu nhiên một ma trận có kích thước 3x7. \n",
        "Thực hiện phép chuyển vị đối với ma trận này. \n",
        "Xuất các ma trận này ra màn hình.\n",
        "Cho ma trận A5×7, hãy tính ma trận khả nghịch của A. \n",
        "Gợi ý: sử dụng hàm numpy.linalg.inv()"
      ],
      "metadata": {
        "id": "lhNFRZskSJyT"
      },
      "execution_count": null,
      "outputs": []
    },
    {
      "cell_type": "code",
      "source": [
        "A = np.random.randint(-10, 10, (6, 7))\n",
        "print(\"matrix A:\", A)\n",
        "B = np.random.randint(-10, 10, (6, 7))\n",
        "print(\"matrix B:\", B)\n",
        "print(\"matrix C:\", A+B)"
      ],
      "metadata": {
        "colab": {
          "base_uri": "https://localhost:8080/"
        },
        "id": "PPfbVzfdSUMZ",
        "outputId": "b90fcd98-f13c-444a-edf0-becf0355f6ed"
      },
      "execution_count": 11,
      "outputs": [
        {
          "output_type": "stream",
          "name": "stdout",
          "text": [
            "matrix A: [[ -8   1   5  -8 -10  -4   9]\n",
            " [ -3 -10 -10  -4   3   6  -1]\n",
            " [ -5   0  -5   8   6   6   7]\n",
            " [ -3   4  -7  -7  -2   7   0]\n",
            " [  6  -7  -7  -5   5  -9  -9]\n",
            " [  2  -1  -1  -3   3  -4   4]]\n",
            "matrix B: [[  2  -4   2   0  -2  -5  -5]\n",
            " [  2   6 -10  -1  -3  -2   8]\n",
            " [  4   0   5   9   4  -4  -9]\n",
            " [  0  -8   8 -10  -3 -10  -3]\n",
            " [ -3  -4 -10   9  -8   0  -3]\n",
            " [  6  -4  -5  -7   4  -4   3]]\n",
            "matrix C: [[ -6  -3   7  -8 -12  -9   4]\n",
            " [ -1  -4 -20  -5   0   4   7]\n",
            " [ -1   0   0  17  10   2  -2]\n",
            " [ -3  -4   1 -17  -5  -3  -3]\n",
            " [  3 -11 -17   4  -3  -9 -12]\n",
            " [  8  -5  -6 -10   7  -8   7]]\n"
          ]
        }
      ]
    },
    {
      "cell_type": "code",
      "source": [
        "D = np.random.randint(-10, 10, (5, 7))\n",
        "print(\"matrix 5x7\", D)\n",
        "E = np.random.randint(-10, 10, (7, 3))\n",
        "print(\"matrix 3x7:\", E)\n",
        "print(\"matrix c5x3:\", np.dot(D, E))"
      ],
      "metadata": {
        "colab": {
          "base_uri": "https://localhost:8080/"
        },
        "id": "I43CmRpISjH0",
        "outputId": "4751fdb5-0a26-4031-b89b-af7ff791c789"
      },
      "execution_count": 13,
      "outputs": [
        {
          "output_type": "stream",
          "name": "stdout",
          "text": [
            "matrix 5x7 [[ -8  -4  -2   9  -4  -5  -4]\n",
            " [ -8   5   1   9   1   6  -2]\n",
            " [ -7  -2 -10  -4  -2   2   6]\n",
            " [  2   7   0   3   3   0   1]\n",
            " [ -8   1   8   5   9  -7  -8]]\n",
            "matrix 3x7: [[ 9 -9 -7]\n",
            " [ 6 -1  6]\n",
            " [ 9 -3  1]\n",
            " [ 6  9 -6]\n",
            " [-2 -2  0]\n",
            " [ 4  8 -7]\n",
            " [-9  5 -3]]\n",
            "matrix c5x3: [[ -36  111   23]\n",
            " [  61  181   -3]\n",
            " [-231  109   19]\n",
            " [  63    1    7]\n",
            " [  62  -22  113]]\n"
          ]
        }
      ]
    },
    {
      "cell_type": "code",
      "source": [
        "print('D:', D)\n",
        "print(\"ma tran kha nghich:\", np.linalg.pinv(D))"
      ],
      "metadata": {
        "colab": {
          "base_uri": "https://localhost:8080/"
        },
        "id": "qCB5JDBfS7Lb",
        "outputId": "20699315-ac92-43e6-decd-7e698ae9cd23"
      },
      "execution_count": 14,
      "outputs": [
        {
          "output_type": "stream",
          "name": "stdout",
          "text": [
            "D: [[ -8  -4  -2   9  -4  -5  -4]\n",
            " [ -8   5   1   9   1   6  -2]\n",
            " [ -7  -2 -10  -4  -2   2   6]\n",
            " [  2   7   0   3   3   0   1]\n",
            " [ -8   1   8   5   9  -7  -8]]\n",
            "ma tran kha nghich: [[ 0.00836062 -0.03264185 -0.04821167  0.03872378 -0.03626048]\n",
            " [-0.00758203  0.00592194  0.00947761  0.09504079  0.00030517]\n",
            " [-0.0327671   0.02641679 -0.0469922  -0.06317521  0.01384096]\n",
            " [ 0.0558555   0.01844899 -0.03019264  0.04705143 -0.02477116]\n",
            " [-0.04189168 -0.00712663  0.03024569  0.02602606  0.05153909]\n",
            " [-0.05572045  0.08394175 -0.01412656 -0.07927642 -0.02564789]\n",
            " [-0.00553853 -0.01013699  0.02992092  0.03803443 -0.00991902]]\n"
          ]
        }
      ]
    },
    {
      "cell_type": "markdown",
      "source": [
        "Bài 9 – Vector là dạng ma trận đặc biệt: Sử dụng numpy để thực hiện các yêu cầu sau\n",
        " Vector hàng (row vector) thực chất là ma trận có kích thước 1 × n. \n",
        "Hãy tạo ngẫu nhiên 1 vector hàng x có kích thước 1 × 8. \n",
        "Kết quả xuất ra màn hình.\n",
        "Vector cột (column vector) thực chất là ma trận có kích thước m × 1. \n",
        "Hãy tạo ngẫu nhiên 1 vector cột x có kích thước 8 × 1. \n",
        "Kết quả xuất ra màn hình."
      ],
      "metadata": {
        "id": "xBUIHF3-TbJB"
      }
    },
    {
      "cell_type": "code",
      "source": [
        "\n",
        "row_vector = np.random.randint(-10, 10, (1,8))\n",
        "row_vector"
      ],
      "metadata": {
        "colab": {
          "base_uri": "https://localhost:8080/"
        },
        "id": "fOqEacjQTcZA",
        "outputId": "155fed88-efe3-469a-f7f5-13dd9475c02a"
      },
      "execution_count": 15,
      "outputs": [
        {
          "output_type": "execute_result",
          "data": {
            "text/plain": [
              "array([[ 6,  3, -9,  8, -1, -1,  2,  5]])"
            ]
          },
          "metadata": {},
          "execution_count": 15
        }
      ]
    },
    {
      "cell_type": "code",
      "source": [
        "column_vector = np.random.randint(-10, 10, (8,1))\n",
        "column_vector"
      ],
      "metadata": {
        "colab": {
          "base_uri": "https://localhost:8080/"
        },
        "id": "FPHPA7D5T6WO",
        "outputId": "bb2e4d05-9215-4783-94a4-4286cfacf651"
      },
      "execution_count": 16,
      "outputs": [
        {
          "output_type": "execute_result",
          "data": {
            "text/plain": [
              "array([[ 4],\n",
              "       [-7],\n",
              "       [-3],\n",
              "       [ 2],\n",
              "       [ 6],\n",
              "       [-4],\n",
              "       [-5],\n",
              "       [-7]])"
            ]
          },
          "metadata": {},
          "execution_count": 16
        }
      ]
    },
    {
      "cell_type": "code",
      "source": [
        "Bài 10 - Hệ phương trình tuyến tính:\n",
        "\n"
      ],
      "metadata": {
        "id": "_wieSKxcT92q"
      },
      "execution_count": null,
      "outputs": []
    },
    {
      "cell_type": "code",
      "source": [
        "A = np.array([[4, 3, -5], \n",
        "              [-2, -4, 5], \n",
        "              [8, 8, 0]])\n",
        "y = np.array([2, 5, -3])\n",
        "\n",
        "x = np.linalg.solve(A, y)\n",
        "x"
      ],
      "metadata": {
        "colab": {
          "base_uri": "https://localhost:8080/"
        },
        "id": "U02jirgjT-4y",
        "outputId": "82b52e9b-d67b-4655-d992-de79dd5f4915"
      },
      "execution_count": 17,
      "outputs": [
        {
          "output_type": "execute_result",
          "data": {
            "text/plain": [
              "array([ 2.20833333, -2.58333333, -0.18333333])"
            ]
          },
          "metadata": {},
          "execution_count": 17
        }
      ]
    }
  ]
}