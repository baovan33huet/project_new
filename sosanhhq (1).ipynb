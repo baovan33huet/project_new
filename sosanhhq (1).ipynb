{
  "nbformat": 4,
  "nbformat_minor": 0,
  "metadata": {
    "colab": {
      "name": "sosanhhq.ipynb",
      "provenance": []
    },
    "kernelspec": {
      "name": "python3",
      "display_name": "Python 3"
    },
    "language_info": {
      "name": "python"
    }
  },
  "cells": [
    {
      "cell_type": "code",
      "execution_count": null,
      "metadata": {
        "id": "rK13N1eIBAV8"
      },
      "outputs": [],
      "source": [
        "import numpy as np\n",
        "import pandas as pd\n",
        "import matplotlib.pyplot as plt\n",
        "import sklearn\n",
        "from sklearn.linear_model import LinearRegression\n",
        "from sklearn.model_selection import  train_test_split\n",
        "from sklearn import metrics as sq\n",
        "from sklearn import linear_model"
      ]
    },
    {
      "cell_type": "markdown",
      "source": [
        " Đọc tệp"
      ],
      "metadata": {
        "id": "ipjv5aKQB6qH"
      }
    },
    {
      "cell_type": "code",
      "source": [
        "data = pd.read_csv(\"DuLieuYKhoa.csv\", sep=\";\")\n",
        "data.head"
      ],
      "metadata": {
        "colab": {
          "base_uri": "https://localhost:8080/"
        },
        "id": "eXstZMEmBY-S",
        "outputId": "0af3b640-2e61-4ea0-eec7-8c3b2a93a97b"
      },
      "execution_count": null,
      "outputs": [
        {
          "output_type": "execute_result",
          "data": {
            "text/plain": [
              "<bound method NDFrame.head of     TUOI  BMI   HA  GLUCOSE  CHOLESTEROL  BEDAYTM\n",
              "0     56   21  160     14.0         6.00     1.95\n",
              "1     76   18  150     12.0         4.97     1.33\n",
              "2     63   16  160      4.4         6.39     0.83\n",
              "3     78   20  100      4.0         7.00     2.00\n",
              "4     87   20  110      4.6         4.10     1.30\n",
              "..   ...  ...  ...      ...          ...      ...\n",
              "95    55   24  160      5.0         7.20     0.90\n",
              "96    76   15  140      3.1         5.24     1.16\n",
              "97    70   25  180      4.0         4.40     1.00\n",
              "98    85   21  160      5.2         5.20     0.97\n",
              "99    87   22  130      9.0         5.20     2.30\n",
              "\n",
              "[100 rows x 6 columns]>"
            ]
          },
          "metadata": {},
          "execution_count": 2
        }
      ]
    },
    {
      "cell_type": "markdown",
      "source": [
        "Lấy dataframe bề dày thành mạch làm biên mục tiêu"
      ],
      "metadata": {
        "id": "C4Ke7PnaClu1"
      }
    },
    {
      "cell_type": "code",
      "source": [
        "Y = data['BEDAYTM'].to_numpy()"
      ],
      "metadata": {
        "id": "PZoi-IViCpR3"
      },
      "execution_count": null,
      "outputs": []
    },
    {
      "cell_type": "markdown",
      "source": [
        "Lấy datafarame không chứa bề dày thành mạch làm biến giải thích"
      ],
      "metadata": {
        "id": "aBRvCV9gC4I1"
      }
    },
    {
      "cell_type": "code",
      "source": [
        "X = data.drop(\"BEDAYTM\", axis = 1)"
      ],
      "metadata": {
        "id": "SZmQZKImCxeX"
      },
      "execution_count": null,
      "outputs": []
    },
    {
      "cell_type": "markdown",
      "source": [
        " Hồi quy ridge\n",
        "---\n",
        "\n"
      ],
      "metadata": {
        "id": "jZmhJV7dDEnV"
      }
    },
    {
      "cell_type": "code",
      "source": [
        "from sklearn.linear_model import Ridge"
      ],
      "metadata": {
        "id": "IxM8Lk8lHU9o"
      },
      "execution_count": null,
      "outputs": []
    },
    {
      "cell_type": "code",
      "source": [
        "rng = np.random.RandomState(0)"
      ],
      "metadata": {
        "id": "L3hH3C6UHWK6"
      },
      "execution_count": null,
      "outputs": []
    },
    {
      "cell_type": "code",
      "source": [
        "X_train, X_test, Y_train, Y_test = train_test_split(X, Y, test_size = 20)"
      ],
      "metadata": {
        "id": "IUuwQIdsHgHJ"
      },
      "execution_count": null,
      "outputs": []
    },
    {
      "cell_type": "code",
      "source": [
        "clf = Ridge(alpha=1.0)"
      ],
      "metadata": {
        "id": "MNGW2xiMHj3k"
      },
      "execution_count": null,
      "outputs": []
    },
    {
      "cell_type": "code",
      "source": [
        "clf.fit(X_train, Y_train)"
      ],
      "metadata": {
        "colab": {
          "base_uri": "https://localhost:8080/"
        },
        "id": "tONOgfAdHmbc",
        "outputId": "80b9fc29-468b-41fd-864c-0ebb09bab9b8"
      },
      "execution_count": null,
      "outputs": [
        {
          "output_type": "execute_result",
          "data": {
            "text/plain": [
              "Ridge()"
            ]
          },
          "metadata": {},
          "execution_count": 9
        }
      ]
    },
    {
      "cell_type": "code",
      "source": [
        "Y_pred = clf.predict(X_test)\n",
        "print(\"\\nGIÁ TRỊ Y DỰ ĐOÁN\")\n",
        "print(Y_pred)\n",
        "#In giá trị y test thực tế\n",
        "print(\"\\nGIÁ TRỊ Y THỰC TẾ\")\n",
        "print(Y_test)\n"
      ],
      "metadata": {
        "colab": {
          "base_uri": "https://localhost:8080/"
        },
        "id": "yujsIdl2ISes",
        "outputId": "52ec4002-aed8-4521-e60a-74e71e9e7c30"
      },
      "execution_count": null,
      "outputs": [
        {
          "output_type": "stream",
          "name": "stdout",
          "text": [
            "\n",
            "GIÁ TRỊ Y DỰ ĐOÁN\n",
            "[1.06312483 1.25398993 0.99710807 1.07821154 0.64718025 1.4278764\n",
            " 0.74667004 0.76660062 1.0623069  1.06945963 1.06162839 1.11487444\n",
            " 1.25587218 1.36512486 1.07928996 1.16146373 1.12944157 0.7936777\n",
            " 0.95636151 1.18540603]\n",
            "\n",
            "GIÁ TRỊ Y THỰC TẾ\n",
            "[0.89 2.3  0.97 0.97 0.65 1.7  0.71 0.7  2.   0.97 0.7  1.16 1.   0.89\n",
            " 0.82 1.   0.9  0.81 1.1  1.13]\n"
          ]
        }
      ]
    },
    {
      "cell_type": "code",
      "source": [
        "mse = sq.mean_squared_error(Y_test, Y_pred)\n",
        "print(\"KIỂM TRA MỨC ĐỘ LỖI CỦA MÔ HÌNH\")\n",
        "print(mse)"
      ],
      "metadata": {
        "colab": {
          "base_uri": "https://localhost:8080/"
        },
        "id": "RMSj_WsrIC5U",
        "outputId": "7a13e458-ccbb-43bb-e01d-cd4edc1543fd"
      },
      "execution_count": null,
      "outputs": [
        {
          "output_type": "stream",
          "name": "stdout",
          "text": [
            "KIỂM TRA MỨC ĐỘ LỖI CỦA MÔ HÌNH\n",
            "0.1349746555371919\n"
          ]
        }
      ]
    },
    {
      "cell_type": "code",
      "source": [
        "plt.scatter(Y_test, Y_pred)\n",
        "plt.xlabel(\"Giá trị thực tế: $Y_i$\")\n",
        "plt.ylabel(\"Giá trị dự đoán: $\\hat{Y}_i$\")\n",
        "plt.title(\"Bảng biểu so sánh $Y_i$ vs $\\hat{Y}_i$\")\n",
        "plt.show()"
      ],
      "metadata": {
        "colab": {
          "base_uri": "https://localhost:8080/",
          "height": 306
        },
        "id": "RZW19HkFIe2A",
        "outputId": "782dc2dc-7676-42d8-8d95-beeb6ba98a24"
      },
      "execution_count": null,
      "outputs": [
        {
          "output_type": "display_data",
          "data": {
            "text/plain": [
              "<Figure size 432x288 with 1 Axes>"
            ],
            "image/png": "[encoded data removed]"
          },
          "metadata": {
            "needs_background": "light"
          }
        }
      ]
    },
    {
      "cell_type": "markdown",
      "source": [
        "**Hồi quy lasso**"
      ],
      "metadata": {
        "id": "otbCoYp76czm"
      }
    },
    {
      "cell_type": "code",
      "source": [
        "from sklearn import linear_model"
      ],
      "metadata": {
        "id": "lNyYq3OS6hnv"
      },
      "execution_count": null,
      "outputs": []
    },
    {
      "cell_type": "code",
      "source": [
        "clf = linear_model.Lasso(alpha=0.1)"
      ],
      "metadata": {
        "id": "OVY8v8CW6w0x"
      },
      "execution_count": null,
      "outputs": []
    },
    {
      "cell_type": "code",
      "source": [
        "X_train, X_test, Y_train, Y_test = train_test_split(X, Y, test_size = 20)"
      ],
      "metadata": {
        "id": "qC1EJr1865j0"
      },
      "execution_count": null,
      "outputs": []
    },
    {
      "cell_type": "code",
      "source": [
        "clf.fit(X_train, Y_train)"
      ],
      "metadata": {
        "colab": {
          "base_uri": "https://localhost:8080/"
        },
        "id": "pBZ-VK4G7Bqh",
        "outputId": "4445f154-ea55-4ffb-94a1-5a0020559502"
      },
      "execution_count": null,
      "outputs": [
        {
          "output_type": "execute_result",
          "data": {
            "text/plain": [
              "Lasso(alpha=0.1)"
            ]
          },
          "metadata": {},
          "execution_count": 16
        }
      ]
    },
    {
      "cell_type": "code",
      "source": [
        "Y_pred = clf.predict(X_test)\n",
        "print(\"\\nGIÁ TRỊ Y DỰ ĐOÁN\")\n",
        "print(Y_pred)\n",
        "#In giá trị y test thực tế\n",
        "print(\"\\nGIÁ TRỊ Y THỰC TẾ\")\n",
        "print(Y_test)\n"
      ],
      "metadata": {
        "colab": {
          "base_uri": "https://localhost:8080/"
        },
        "id": "j07tJabG7Hdb",
        "outputId": "63740ca0-ca1d-439f-82a5-b797c2d46c09"
      },
      "execution_count": null,
      "outputs": [
        {
          "output_type": "stream",
          "name": "stdout",
          "text": [
            "\n",
            "GIÁ TRỊ Y DỰ ĐOÁN\n",
            "[1.09148945 1.26872521 0.85277968 1.133084   1.1177155  0.9561314\n",
            " 0.78975319 0.95006797 1.13689196 0.96318099 1.24122984 0.95838688\n",
            " 1.16057937 1.12603441 1.16029621 1.13435332 1.01661925 0.9750247\n",
            " 1.23065545 0.84192213]\n",
            "\n",
            "GIÁ TRỊ Y THỰC TẾ\n",
            "[2.7  0.82 0.71 1.6  1.   0.99 1.1  1.   1.   0.97 1.7  1.95 0.92 0.97\n",
            " 2.3  1.16 0.83 0.9  2.3  0.97]\n"
          ]
        }
      ]
    },
    {
      "cell_type": "code",
      "source": [
        "mse = sq.mean_squared_error(Y_test, Y_pred)\n",
        "print(\"KIỂM TRA MỨC ĐỘ LỖI CỦA MÔ HÌNH\")\n",
        "print(mse)"
      ],
      "metadata": {
        "colab": {
          "base_uri": "https://localhost:8080/"
        },
        "id": "wHZIvnWC7Nor",
        "outputId": "9af24afc-28b2-4e38-dc02-ddfca6bd5883"
      },
      "execution_count": null,
      "outputs": [
        {
          "output_type": "stream",
          "name": "stdout",
          "text": [
            "KIỂM TRA MỨC ĐỘ LỖI CỦA MÔ HÌNH\n",
            "0.3467762386229976\n"
          ]
        }
      ]
    },
    {
      "cell_type": "code",
      "source": [
        "plt.scatter(Y_test, Y_pred)\n",
        "plt.xlabel(\"Giá trị thực tế: $Y_i$\")\n",
        "plt.ylabel(\"Giá trị dự đoán: $\\hat{Y}_i$\")\n",
        "plt.title(\"Bảng biểu so sánh $Y_i$ vs $\\hat{Y}_i$\")\n",
        "plt.show()"
      ],
      "metadata": {
        "id": "75PWY-Pj7WAr",
        "outputId": "ec20b5ee-1683-4b9f-d41b-8fea65ababd2",
        "colab": {
          "base_uri": "https://localhost:8080/",
          "height": 306
        }
      },
      "execution_count": null,
      "outputs": [
        {
          "output_type": "display_data",
          "data": {
            "text/plain": [
              "<Figure size 432x288 with 1 Axes>"
            ],
            "image/png": "[encoded data removed]"
          },
          "metadata": {
            "needs_background": "light"
          }
        }
      ]
    }
  ]
}