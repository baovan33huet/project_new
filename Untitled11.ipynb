{
  "nbformat": 4,
  "nbformat_minor": 0,
  "metadata": {
    "colab": {
      "name": "Untitled11.ipynb",
      "provenance": []
    },
    "kernelspec": {
      "name": "python3",
      "display_name": "Python 3"
    },
    "language_info": {
      "name": "python"
    }
  },
  "cells": [
    {
      "cell_type": "code",
      "execution_count": 1,
      "metadata": {
        "id": "7ZWirPpLfTKb"
      },
      "outputs": [],
      "source": [
        "import numpy as np\n",
        "import pandas as pd"
      ]
    },
    {
      "cell_type": "code",
      "source": [
        "S = pd.Series()  \n",
        "S"
      ],
      "metadata": {
        "colab": {
          "base_uri": "https://localhost:8080/"
        },
        "id": "SwbqMircflHD",
        "outputId": "5edd148f-0a56-42c5-f4db-0eb776125bda"
      },
      "execution_count": 2,
      "outputs": [
        {
          "output_type": "stream",
          "name": "stderr",
          "text": [
            "/usr/local/lib/python3.7/dist-packages/ipykernel_launcher.py:1: DeprecationWarning: The default dtype for empty Series will be 'object' instead of 'float64' in a future version. Specify a dtype explicitly to silence this warning.\n",
            "  \"\"\"Entry point for launching an IPython kernel.\n"
          ]
        },
        {
          "output_type": "execute_result",
          "data": {
            "text/plain": [
              "Series([], dtype: float64)"
            ]
          },
          "metadata": {},
          "execution_count": 2
        }
      ]
    },
    {
      "cell_type": "code",
      "source": [
        "#cau 2\n",
        "A = np.random.rand(7)\n",
        "print(A)\n",
        "pd.Series(A)"
      ],
      "metadata": {
        "colab": {
          "base_uri": "https://localhost:8080/"
        },
        "id": "w7CH49QXfofC",
        "outputId": "ac586d20-5f13-48a9-bb6d-52dcccb47f1b"
      },
      "execution_count": 3,
      "outputs": [
        {
          "output_type": "stream",
          "name": "stdout",
          "text": [
            "[0.08205464 0.88258674 0.7553323  0.61786669 0.77415894 0.0670143\n",
            " 0.92386434]\n"
          ]
        },
        {
          "output_type": "execute_result",
          "data": {
            "text/plain": [
              "0    0.082055\n",
              "1    0.882587\n",
              "2    0.755332\n",
              "3    0.617867\n",
              "4    0.774159\n",
              "5    0.067014\n",
              "6    0.923864\n",
              "dtype: float64"
            ]
          },
          "metadata": {},
          "execution_count": 3
        }
      ]
    },
    {
      "cell_type": "code",
      "source": [
        "#cau 3\n",
        "A = []\n",
        "for i in range(7):\n",
        "  n = int(input(\"n = \"))\n",
        "  A.append(n)\n",
        "A = np.array(A)\n",
        "pd.Series(A)"
      ],
      "metadata": {
        "colab": {
          "base_uri": "https://localhost:8080/"
        },
        "id": "gBt09VR9fswF",
        "outputId": "e408428c-e01f-4192-c4d0-15573b5e27be"
      },
      "execution_count": 6,
      "outputs": [
        {
          "name": "stdout",
          "output_type": "stream",
          "text": [
            "n = 2\n",
            "n = 4\n",
            "n = 5\n",
            "n = 3\n",
            "n = 1\n",
            "n = 1\n",
            "n = 1\n"
          ]
        },
        {
          "output_type": "execute_result",
          "data": {
            "text/plain": [
              "0    2\n",
              "1    4\n",
              "2    5\n",
              "3    3\n",
              "4    1\n",
              "5    1\n",
              "6    1\n",
              "dtype: int64"
            ]
          },
          "metadata": {},
          "execution_count": 6
        }
      ]
    },
    {
      "cell_type": "code",
      "source": [
        "#cau 4\n",
        "A = np.random.randint(-10, 10, (7, 1))\n",
        "print(A)\n",
        "pd.DataFrame(A)"
      ],
      "metadata": {
        "colab": {
          "base_uri": "https://localhost:8080/",
          "height": 394
        },
        "id": "-c44hM02f9wr",
        "outputId": "4edaad84-92fe-47b7-ad6c-5f8fb496d593"
      },
      "execution_count": 7,
      "outputs": [
        {
          "output_type": "stream",
          "name": "stdout",
          "text": [
            "[[ 5]\n",
            " [-4]\n",
            " [-8]\n",
            " [ 8]\n",
            " [ 6]\n",
            " [-1]\n",
            " [ 3]]\n"
          ]
        },
        {
          "output_type": "execute_result",
          "data": {
            "text/plain": [
              "   0\n",
              "0  5\n",
              "1 -4\n",
              "2 -8\n",
              "3  8\n",
              "4  6\n",
              "5 -1\n",
              "6  3"
            ],
            "text/html": [
              "\n",
              "  <div id=\"df-7d28fc26-2521-4f77-9045-8170e9cef435\">\n",
              "    <div class=\"colab-df-container\">\n",
              "      <div>\n",
              "<style scoped>\n",
              "    .dataframe tbody tr th:only-of-type {\n",
              "        vertical-align: middle;\n",
              "    }\n",
              "\n",
              "    .dataframe tbody tr th {\n",
              "        vertical-align: top;\n",
              "    }\n",
              "\n",
              "    .dataframe thead th {\n",
              "        text-align: right;\n",
              "    }\n",
              "</style>\n",
              "<table border=\"1\" class=\"dataframe\">\n",
              "  <thead>\n",
              "    <tr style=\"text-align: right;\">\n",
              "      <th></th>\n",
              "      <th>0</th>\n",
              "    </tr>\n",
              "  </thead>\n",
              "  <tbody>\n",
              "    <tr>\n",
              "      <th>0</th>\n",
              "      <td>5</td>\n",
              "    </tr>\n",
              "    <tr>\n",
              "      <th>1</th>\n",
              "      <td>-4</td>\n",
              "    </tr>\n",
              "    <tr>\n",
              "      <th>2</th>\n",
              "      <td>-8</td>\n",
              "    </tr>\n",
              "    <tr>\n",
              "      <th>3</th>\n",
              "      <td>8</td>\n",
              "    </tr>\n",
              "    <tr>\n",
              "      <th>4</th>\n",
              "      <td>6</td>\n",
              "    </tr>\n",
              "    <tr>\n",
              "      <th>5</th>\n",
              "      <td>-1</td>\n",
              "    </tr>\n",
              "    <tr>\n",
              "      <th>6</th>\n",
              "      <td>3</td>\n",
              "    </tr>\n",
              "  </tbody>\n",
              "</table>\n",
              "</div>\n",
              "      <button class=\"colab-df-convert\" onclick=\"convertToInteractive('df-7d28fc26-2521-4f77-9045-8170e9cef435')\"\n",
              "              title=\"Convert this dataframe to an interactive table.\"\n",
              "              style=\"display:none;\">\n",
              "        \n",
              "  <svg xmlns=\"http://www.w3.org/2000/svg\" height=\"24px\"viewBox=\"0 0 24 24\"\n",
              "       width=\"24px\">\n",
              "    <path d=\"M0 0h24v24H0V0z\" fill=\"none\"/>\n",
              "    <path d=\"M18.56 5.44l.94 2.06.94-2.06 2.06-.94-2.06-.94-.94-2.06-.94 2.06-2.06.94zm-11 1L8.5 8.5l.94-2.06 2.06-.94-2.06-.94L8.5 2.5l-.94 2.06-2.06.94zm10 10l.94 2.06.94-2.06 2.06-.94-2.06-.94-.94-2.06-.94 2.06-2.06.94z\"/><path d=\"M17.41 7.96l-1.37-1.37c-.4-.4-.92-.59-1.43-.59-.52 0-1.04.2-1.43.59L10.3 9.45l-7.72 7.72c-.78.78-.78 2.05 0 2.83L4 21.41c.39.39.9.59 1.41.59.51 0 1.02-.2 1.41-.59l7.78-7.78 2.81-2.81c.8-.78.8-2.07 0-2.86zM5.41 20L4 18.59l7.72-7.72 1.47 1.35L5.41 20z\"/>\n",
              "  </svg>\n",
              "      </button>\n",
              "      \n",
              "  <style>\n",
              "    .colab-df-container {\n",
              "      display:flex;\n",
              "      flex-wrap:wrap;\n",
              "      gap: 12px;\n",
              "    }\n",
              "\n",
              "    .colab-df-convert {\n",
              "      background-color: #E8F0FE;\n",
              "      border: none;\n",
              "      border-radius: 50%;\n",
              "      cursor: pointer;\n",
              "      display: none;\n",
              "      fill: #1967D2;\n",
              "      height: 32px;\n",
              "      padding: 0 0 0 0;\n",
              "      width: 32px;\n",
              "    }\n",
              "\n",
              "    .colab-df-convert:hover {\n",
              "      background-color: #E2EBFA;\n",
              "      box-shadow: 0px 1px 2px rgba(60, 64, 67, 0.3), 0px 1px 3px 1px rgba(60, 64, 67, 0.15);\n",
              "      fill: #174EA6;\n",
              "    }\n",
              "\n",
              "    [theme=dark] .colab-df-convert {\n",
              "      background-color: #3B4455;\n",
              "      fill: #D2E3FC;\n",
              "    }\n",
              "\n",
              "    [theme=dark] .colab-df-convert:hover {\n",
              "      background-color: #434B5C;\n",
              "      box-shadow: 0px 1px 3px 1px rgba(0, 0, 0, 0.15);\n",
              "      filter: drop-shadow(0px 1px 2px rgba(0, 0, 0, 0.3));\n",
              "      fill: #FFFFFF;\n",
              "    }\n",
              "  </style>\n",
              "\n",
              "      <script>\n",
              "        const buttonEl =\n",
              "          document.querySelector('#df-7d28fc26-2521-4f77-9045-8170e9cef435 button.colab-df-convert');\n",
              "        buttonEl.style.display =\n",
              "          google.colab.kernel.accessAllowed ? 'block' : 'none';\n",
              "\n",
              "        async function convertToInteractive(key) {\n",
              "          const element = document.querySelector('#df-7d28fc26-2521-4f77-9045-8170e9cef435');\n",
              "          const dataTable =\n",
              "            await google.colab.kernel.invokeFunction('convertToInteractive',\n",
              "                                                     [key], {});\n",
              "          if (!dataTable) return;\n",
              "\n",
              "          const docLinkHtml = 'Like what you see? Visit the ' +\n",
              "            '<a target=\"_blank\" href=https://colab.research.google.com/notebooks/data_table.ipynb>data table notebook</a>'\n",
              "            + ' to learn more about interactive tables.';\n",
              "          element.innerHTML = '';\n",
              "          dataTable['output_type'] = 'display_data';\n",
              "          await google.colab.output.renderOutput(dataTable, element);\n",
              "          const docLink = document.createElement('div');\n",
              "          docLink.innerHTML = docLinkHtml;\n",
              "          element.appendChild(docLink);\n",
              "        }\n",
              "      </script>\n",
              "    </div>\n",
              "  </div>\n",
              "  "
            ]
          },
          "metadata": {},
          "execution_count": 7
        }
      ]
    },
    {
      "cell_type": "code",
      "source": [
        "#cau 6\n",
        "import string\n",
        "import random\n",
        "\n",
        "A = np.random.randn(20)\n",
        "S = pd.Series(A)\n",
        "print(S)\n",
        "print(S.values)\n",
        "labels = []\n",
        "for i in range(20):\n",
        "  labels.append(random.choice(string.ascii_letters))\n",
        "S.index = labels\n",
        "print(S)\n",
        "label = random.choice(labels)\n",
        "print(\"label:\", label, S.loc[label])\n",
        "print(\"0:\", S.iloc[0])"
      ],
      "metadata": {
        "colab": {
          "base_uri": "https://localhost:8080/"
        },
        "id": "Xn4QlPocf3Gk",
        "outputId": "53b41ba0-2698-4466-e9a6-8c924dfa6470"
      },
      "execution_count": 10,
      "outputs": [
        {
          "output_type": "stream",
          "name": "stdout",
          "text": [
            "0     0.190727\n",
            "1    -1.490528\n",
            "2     1.055861\n",
            "3    -0.837984\n",
            "4     1.549900\n",
            "5     1.675797\n",
            "6     0.712934\n",
            "7    -0.939002\n",
            "8     0.283399\n",
            "9    -0.568409\n",
            "10    0.102412\n",
            "11    1.029384\n",
            "12    0.235691\n",
            "13    0.416520\n",
            "14   -0.939360\n",
            "15   -1.299109\n",
            "16   -0.554233\n",
            "17   -0.207206\n",
            "18   -0.737359\n",
            "19   -1.990479\n",
            "dtype: float64\n",
            "[ 0.19072669 -1.49052772  1.05586059 -0.83798441  1.54989989  1.67579717\n",
            "  0.71293441 -0.9390025   0.2833994  -0.56840941  0.10241227  1.02938361\n",
            "  0.2356912   0.41651952 -0.93936014 -1.29910909 -0.55423305 -0.20720639\n",
            " -0.73735891 -1.99047863]\n",
            "C    0.190727\n",
            "L   -1.490528\n",
            "k    1.055861\n",
            "k   -0.837984\n",
            "H    1.549900\n",
            "i    1.675797\n",
            "f    0.712934\n",
            "O   -0.939002\n",
            "C    0.283399\n",
            "y   -0.568409\n",
            "B    0.102412\n",
            "l    1.029384\n",
            "v    0.235691\n",
            "f    0.416520\n",
            "H   -0.939360\n",
            "a   -1.299109\n",
            "J   -0.554233\n",
            "F   -0.207206\n",
            "f   -0.737359\n",
            "d   -1.990479\n",
            "dtype: float64\n",
            "label: y -0.5684094072245437\n",
            "0: 0.19072669218912036\n"
          ]
        }
      ]
    }
  ]
}